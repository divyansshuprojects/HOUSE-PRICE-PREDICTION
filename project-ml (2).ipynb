{
 "cells": [
  {
   "cell_type": "markdown",
   "metadata": {},
   "source": [
    "## PROBLEM STATEMENT:\n",
    "      \n",
    "PREDICTION OF HOUSE PRICING USING MACHINE LEARNING WITH PYTHON\n"
   ]
  },
  {
   "cell_type": "markdown",
   "metadata": {},
   "source": [
    "## Importing the necessary packages and modules"
   ]
  },
  {
   "cell_type": "markdown",
   "metadata": {},
   "source": [
    "- <b>numpy</b> package can be used to perform mathematical operations like 'mean'.\n",
    "- <b>pandas</b> package can be used to process dataframes.\n",
    "- <b>seaborn</b> package can be used to visualise data in the form of various effective graphs and plots.\n",
    "- <b>sklearn</b> is the main package which is used for machine learning.\n",
    "- <b>LabelEncoder</b> is used to encode the non-numeric data into numericals so that machine learning model can be built.\n",
    "- <b>train_test_split module</b> is used to split the data into training and testing sets.\n",
    "- <b>LinearRegression</b> module is used to fit a LinearRegression model.\n",
    "- <b>sklearn.metrics</b> can be used to calculate statistical results like mean squared error, root mean squared error, etc."
   ]
  },
  {
   "cell_type": "code",
   "execution_count": 2,
   "metadata": {
    "scrolled": true
   },
   "outputs": [],
   "source": [
    "#importing the libraries\n",
    "import numpy as np\n",
    "import pandas as pd\n",
    "import seaborn as seb\n",
    "import matplotlib.pyplot as plt\n",
    "from sklearn.model_selection import train_test_split\n",
    "from sklearn.linear_model import LinearRegression\n",
    "from sklearn.preprocessing import LabelEncoder \n",
    "from sklearn.metrics import r2_score\n",
    "%matplotlib inline"
   ]
  },
  {
   "cell_type": "markdown",
   "metadata": {},
   "source": [
    "## Reading the dataset\n",
    "- The <b>dataset</b> needs to be imported and read - we use <b>pandas</b> to acheive this."
   ]
  },
  {
   "cell_type": "code",
   "execution_count": 3,
   "metadata": {
    "scrolled": true
   },
   "outputs": [
    {
     "data": {
      "text/html": [
       "<div>\n",
       "<style scoped>\n",
       "    .dataframe tbody tr th:only-of-type {\n",
       "        vertical-align: middle;\n",
       "    }\n",
       "\n",
       "    .dataframe tbody tr th {\n",
       "        vertical-align: top;\n",
       "    }\n",
       "\n",
       "    .dataframe thead th {\n",
       "        text-align: right;\n",
       "    }\n",
       "</style>\n",
       "<table border=\"1\" class=\"dataframe\">\n",
       "  <thead>\n",
       "    <tr style=\"text-align: right;\">\n",
       "      <th></th>\n",
       "      <th>id</th>\n",
       "      <th>date</th>\n",
       "      <th>bedrooms</th>\n",
       "      <th>bathrooms</th>\n",
       "      <th>sqft_living</th>\n",
       "      <th>sqft_lot</th>\n",
       "      <th>floors</th>\n",
       "      <th>waterfront</th>\n",
       "      <th>view</th>\n",
       "      <th>condition</th>\n",
       "      <th>grade</th>\n",
       "      <th>sqft_above</th>\n",
       "      <th>sqft_basement</th>\n",
       "      <th>yr_built</th>\n",
       "      <th>yr_renovated</th>\n",
       "      <th>zipcode</th>\n",
       "      <th>lat</th>\n",
       "      <th>long</th>\n",
       "      <th>price</th>\n",
       "    </tr>\n",
       "  </thead>\n",
       "  <tbody>\n",
       "    <tr>\n",
       "      <th>0</th>\n",
       "      <td>7129300520</td>\n",
       "      <td>20141013</td>\n",
       "      <td>3</td>\n",
       "      <td>1</td>\n",
       "      <td>1180</td>\n",
       "      <td>5650</td>\n",
       "      <td>1</td>\n",
       "      <td>no</td>\n",
       "      <td>0</td>\n",
       "      <td>3</td>\n",
       "      <td>7</td>\n",
       "      <td>1180</td>\n",
       "      <td>0</td>\n",
       "      <td>1955</td>\n",
       "      <td>1995.0</td>\n",
       "      <td>98178</td>\n",
       "      <td>47.5112</td>\n",
       "      <td>-1227.000</td>\n",
       "      <td>221900</td>\n",
       "    </tr>\n",
       "    <tr>\n",
       "      <th>1</th>\n",
       "      <td>6414100192</td>\n",
       "      <td>20141209</td>\n",
       "      <td>3</td>\n",
       "      <td>2</td>\n",
       "      <td>2570</td>\n",
       "      <td>7242</td>\n",
       "      <td>2</td>\n",
       "      <td>no</td>\n",
       "      <td>0</td>\n",
       "      <td>3</td>\n",
       "      <td>7</td>\n",
       "      <td>2170</td>\n",
       "      <td>400</td>\n",
       "      <td>1951</td>\n",
       "      <td>1991.0</td>\n",
       "      <td>98125</td>\n",
       "      <td>47.7210</td>\n",
       "      <td>-122.319</td>\n",
       "      <td>538000</td>\n",
       "    </tr>\n",
       "    <tr>\n",
       "      <th>2</th>\n",
       "      <td>5631500400</td>\n",
       "      <td>20150225</td>\n",
       "      <td>2</td>\n",
       "      <td>1</td>\n",
       "      <td>770</td>\n",
       "      <td>10000</td>\n",
       "      <td>1</td>\n",
       "      <td>no</td>\n",
       "      <td>0</td>\n",
       "      <td>3</td>\n",
       "      <td>6</td>\n",
       "      <td>770</td>\n",
       "      <td>0</td>\n",
       "      <td>1933</td>\n",
       "      <td>1995.0</td>\n",
       "      <td>98028</td>\n",
       "      <td>47.7379</td>\n",
       "      <td>-122.233</td>\n",
       "      <td>180000</td>\n",
       "    </tr>\n",
       "    <tr>\n",
       "      <th>3</th>\n",
       "      <td>2487200875</td>\n",
       "      <td>20141209</td>\n",
       "      <td>4</td>\n",
       "      <td>3</td>\n",
       "      <td>1960</td>\n",
       "      <td>5000</td>\n",
       "      <td>1</td>\n",
       "      <td>no</td>\n",
       "      <td>0</td>\n",
       "      <td>5</td>\n",
       "      <td>7</td>\n",
       "      <td>1050</td>\n",
       "      <td>910</td>\n",
       "      <td>1965</td>\n",
       "      <td>1995.0</td>\n",
       "      <td>98136</td>\n",
       "      <td>47.5208</td>\n",
       "      <td>-122.393</td>\n",
       "      <td>604000</td>\n",
       "    </tr>\n",
       "    <tr>\n",
       "      <th>4</th>\n",
       "      <td>1954400510</td>\n",
       "      <td>20150218</td>\n",
       "      <td>3</td>\n",
       "      <td>2</td>\n",
       "      <td>1680</td>\n",
       "      <td>8080</td>\n",
       "      <td>1</td>\n",
       "      <td>no</td>\n",
       "      <td>0</td>\n",
       "      <td>3</td>\n",
       "      <td>8</td>\n",
       "      <td>1680</td>\n",
       "      <td>0</td>\n",
       "      <td>1987</td>\n",
       "      <td>1995.0</td>\n",
       "      <td>98074</td>\n",
       "      <td>47.6168</td>\n",
       "      <td>-122.045</td>\n",
       "      <td>510000</td>\n",
       "    </tr>\n",
       "  </tbody>\n",
       "</table>\n",
       "</div>"
      ],
      "text/plain": [
       "           id      date  bedrooms  bathrooms  sqft_living  sqft_lot  floors  \\\n",
       "0  7129300520  20141013         3          1         1180      5650       1   \n",
       "1  6414100192  20141209         3          2         2570      7242       2   \n",
       "2  5631500400  20150225         2          1          770     10000       1   \n",
       "3  2487200875  20141209         4          3         1960      5000       1   \n",
       "4  1954400510  20150218         3          2         1680      8080       1   \n",
       "\n",
       "  waterfront  view  condition  grade  sqft_above  sqft_basement  yr_built  \\\n",
       "0         no     0          3      7        1180              0      1955   \n",
       "1         no     0          3      7        2170            400      1951   \n",
       "2         no     0          3      6         770              0      1933   \n",
       "3         no     0          5      7        1050            910      1965   \n",
       "4         no     0          3      8        1680              0      1987   \n",
       "\n",
       "   yr_renovated  zipcode      lat      long   price  \n",
       "0        1995.0    98178  47.5112 -1227.000  221900  \n",
       "1        1991.0    98125  47.7210  -122.319  538000  \n",
       "2        1995.0    98028  47.7379  -122.233  180000  \n",
       "3        1995.0    98136  47.5208  -122.393  604000  \n",
       "4        1995.0    98074  47.6168  -122.045  510000  "
      ]
     },
     "execution_count": 3,
     "metadata": {},
     "output_type": "execute_result"
    }
   ],
   "source": [
    "#reading the dataset\n",
    "train_data = pd.read_csv('dataset3.csv')\n",
    "train_data.head(5)\n"
   ]
  },
  {
   "cell_type": "code",
   "execution_count": 4,
   "metadata": {},
   "outputs": [
    {
     "data": {
      "text/plain": [
       "(16914, 19)"
      ]
     },
     "execution_count": 4,
     "metadata": {},
     "output_type": "execute_result"
    }
   ],
   "source": [
    "train_data.shape"
   ]
  },
  {
   "cell_type": "code",
   "execution_count": 5,
   "metadata": {},
   "outputs": [
    {
     "data": {
      "text/html": [
       "<div>\n",
       "<style scoped>\n",
       "    .dataframe tbody tr th:only-of-type {\n",
       "        vertical-align: middle;\n",
       "    }\n",
       "\n",
       "    .dataframe tbody tr th {\n",
       "        vertical-align: top;\n",
       "    }\n",
       "\n",
       "    .dataframe thead th {\n",
       "        text-align: right;\n",
       "    }\n",
       "</style>\n",
       "<table border=\"1\" class=\"dataframe\">\n",
       "  <thead>\n",
       "    <tr style=\"text-align: right;\">\n",
       "      <th></th>\n",
       "      <th>date</th>\n",
       "      <th>bedrooms</th>\n",
       "      <th>bathrooms</th>\n",
       "      <th>sqft_living</th>\n",
       "      <th>floors</th>\n",
       "      <th>waterfront</th>\n",
       "      <th>sqft_basement</th>\n",
       "      <th>zipcode</th>\n",
       "      <th>lat</th>\n",
       "      <th>long</th>\n",
       "      <th>price</th>\n",
       "    </tr>\n",
       "  </thead>\n",
       "  <tbody>\n",
       "    <tr>\n",
       "      <th>0</th>\n",
       "      <td>20141013</td>\n",
       "      <td>3</td>\n",
       "      <td>1</td>\n",
       "      <td>1180</td>\n",
       "      <td>1</td>\n",
       "      <td>no</td>\n",
       "      <td>0</td>\n",
       "      <td>98178</td>\n",
       "      <td>47.5112</td>\n",
       "      <td>-1227.000</td>\n",
       "      <td>221900</td>\n",
       "    </tr>\n",
       "    <tr>\n",
       "      <th>1</th>\n",
       "      <td>20141209</td>\n",
       "      <td>3</td>\n",
       "      <td>2</td>\n",
       "      <td>2570</td>\n",
       "      <td>2</td>\n",
       "      <td>no</td>\n",
       "      <td>400</td>\n",
       "      <td>98125</td>\n",
       "      <td>47.7210</td>\n",
       "      <td>-122.319</td>\n",
       "      <td>538000</td>\n",
       "    </tr>\n",
       "    <tr>\n",
       "      <th>2</th>\n",
       "      <td>20150225</td>\n",
       "      <td>2</td>\n",
       "      <td>1</td>\n",
       "      <td>770</td>\n",
       "      <td>1</td>\n",
       "      <td>no</td>\n",
       "      <td>0</td>\n",
       "      <td>98028</td>\n",
       "      <td>47.7379</td>\n",
       "      <td>-122.233</td>\n",
       "      <td>180000</td>\n",
       "    </tr>\n",
       "    <tr>\n",
       "      <th>3</th>\n",
       "      <td>20141209</td>\n",
       "      <td>4</td>\n",
       "      <td>3</td>\n",
       "      <td>1960</td>\n",
       "      <td>1</td>\n",
       "      <td>no</td>\n",
       "      <td>910</td>\n",
       "      <td>98136</td>\n",
       "      <td>47.5208</td>\n",
       "      <td>-122.393</td>\n",
       "      <td>604000</td>\n",
       "    </tr>\n",
       "    <tr>\n",
       "      <th>4</th>\n",
       "      <td>20150218</td>\n",
       "      <td>3</td>\n",
       "      <td>2</td>\n",
       "      <td>1680</td>\n",
       "      <td>1</td>\n",
       "      <td>no</td>\n",
       "      <td>0</td>\n",
       "      <td>98074</td>\n",
       "      <td>47.6168</td>\n",
       "      <td>-122.045</td>\n",
       "      <td>510000</td>\n",
       "    </tr>\n",
       "    <tr>\n",
       "      <th>...</th>\n",
       "      <td>...</td>\n",
       "      <td>...</td>\n",
       "      <td>...</td>\n",
       "      <td>...</td>\n",
       "      <td>...</td>\n",
       "      <td>...</td>\n",
       "      <td>...</td>\n",
       "      <td>...</td>\n",
       "      <td>...</td>\n",
       "      <td>...</td>\n",
       "      <td>...</td>\n",
       "    </tr>\n",
       "    <tr>\n",
       "      <th>16909</th>\n",
       "      <td>20141001</td>\n",
       "      <td>3</td>\n",
       "      <td>2</td>\n",
       "      <td>2930</td>\n",
       "      <td>2</td>\n",
       "      <td>no</td>\n",
       "      <td>0</td>\n",
       "      <td>98052</td>\n",
       "      <td>47.7100</td>\n",
       "      <td>-122.113</td>\n",
       "      <td>754842</td>\n",
       "    </tr>\n",
       "    <tr>\n",
       "      <th>16910</th>\n",
       "      <td>20140924</td>\n",
       "      <td>4</td>\n",
       "      <td>2</td>\n",
       "      <td>2598</td>\n",
       "      <td>2</td>\n",
       "      <td>no</td>\n",
       "      <td>0</td>\n",
       "      <td>98092</td>\n",
       "      <td>47.3412</td>\n",
       "      <td>-122.178</td>\n",
       "      <td>428900</td>\n",
       "    </tr>\n",
       "    <tr>\n",
       "      <th>16911</th>\n",
       "      <td>20140623</td>\n",
       "      <td>3</td>\n",
       "      <td>2</td>\n",
       "      <td>2242</td>\n",
       "      <td>2</td>\n",
       "      <td>no</td>\n",
       "      <td>0</td>\n",
       "      <td>98092</td>\n",
       "      <td>47.2595</td>\n",
       "      <td>-122.202</td>\n",
       "      <td>329900</td>\n",
       "    </tr>\n",
       "    <tr>\n",
       "      <th>16912</th>\n",
       "      <td>20141218</td>\n",
       "      <td>4</td>\n",
       "      <td>2</td>\n",
       "      <td>2830</td>\n",
       "      <td>2</td>\n",
       "      <td>no</td>\n",
       "      <td>0</td>\n",
       "      <td>98199</td>\n",
       "      <td>47.6479</td>\n",
       "      <td>-122.408</td>\n",
       "      <td>1035290</td>\n",
       "    </tr>\n",
       "    <tr>\n",
       "      <th>16913</th>\n",
       "      <td>20140909</td>\n",
       "      <td>4</td>\n",
       "      <td>2</td>\n",
       "      <td>2710</td>\n",
       "      <td>2</td>\n",
       "      <td>no</td>\n",
       "      <td>0</td>\n",
       "      <td>98065</td>\n",
       "      <td>47.5153</td>\n",
       "      <td>-121.871</td>\n",
       "      <td>544999</td>\n",
       "    </tr>\n",
       "  </tbody>\n",
       "</table>\n",
       "<p>16914 rows × 11 columns</p>\n",
       "</div>"
      ],
      "text/plain": [
       "           date  bedrooms  bathrooms  sqft_living  floors waterfront  \\\n",
       "0      20141013         3          1         1180       1         no   \n",
       "1      20141209         3          2         2570       2         no   \n",
       "2      20150225         2          1          770       1         no   \n",
       "3      20141209         4          3         1960       1         no   \n",
       "4      20150218         3          2         1680       1         no   \n",
       "...         ...       ...        ...          ...     ...        ...   \n",
       "16909  20141001         3          2         2930       2         no   \n",
       "16910  20140924         4          2         2598       2         no   \n",
       "16911  20140623         3          2         2242       2         no   \n",
       "16912  20141218         4          2         2830       2         no   \n",
       "16913  20140909         4          2         2710       2         no   \n",
       "\n",
       "       sqft_basement  zipcode      lat      long    price  \n",
       "0                  0    98178  47.5112 -1227.000   221900  \n",
       "1                400    98125  47.7210  -122.319   538000  \n",
       "2                  0    98028  47.7379  -122.233   180000  \n",
       "3                910    98136  47.5208  -122.393   604000  \n",
       "4                  0    98074  47.6168  -122.045   510000  \n",
       "...              ...      ...      ...       ...      ...  \n",
       "16909              0    98052  47.7100  -122.113   754842  \n",
       "16910              0    98092  47.3412  -122.178   428900  \n",
       "16911              0    98092  47.2595  -122.202   329900  \n",
       "16912              0    98199  47.6479  -122.408  1035290  \n",
       "16913              0    98065  47.5153  -121.871   544999  \n",
       "\n",
       "[16914 rows x 11 columns]"
      ]
     },
     "execution_count": 5,
     "metadata": {},
     "output_type": "execute_result"
    }
   ],
   "source": [
    "train_data.drop(columns=['id','view','condition','grade','sqft_above','yr_built','sqft_lot','yr_renovated'])"
   ]
  },
  {
   "cell_type": "markdown",
   "metadata": {},
   "source": [
    "## Processing the dataset\n",
    "- After the data has been imported, we have to <b>clean/preprocess</b> the data to actually fit into a <b>regression</b> model"
   ]
  },
  {
   "cell_type": "markdown",
   "metadata": {},
   "source": [
    "#### 1. Checking for missing entries"
   ]
  },
  {
   "cell_type": "code",
   "execution_count": 6,
   "metadata": {
    "scrolled": true
   },
   "outputs": [
    {
     "data": {
      "text/plain": [
       "id               0\n",
       "date             0\n",
       "bedrooms         0\n",
       "bathrooms        0\n",
       "sqft_living      0\n",
       "sqft_lot         0\n",
       "floors           0\n",
       "waterfront       0\n",
       "view             0\n",
       "condition        0\n",
       "grade            0\n",
       "sqft_above       0\n",
       "sqft_basement    0\n",
       "yr_built         0\n",
       "yr_renovated     0\n",
       "zipcode          0\n",
       "lat              0\n",
       "long             0\n",
       "price            0\n",
       "dtype: int64"
      ]
     },
     "execution_count": 6,
     "metadata": {},
     "output_type": "execute_result"
    }
   ],
   "source": [
    "#Checking for missing entries\n",
    "train_data.isnull().sum()"
   ]
  },
  {
   "cell_type": "markdown",
   "metadata": {},
   "source": [
    "## VISUALIZATIONS OF THE DATA"
   ]
  },
  {
   "cell_type": "code",
   "execution_count": 7,
   "metadata": {
    "scrolled": false
   },
   "outputs": [
    {
     "data": {
      "text/plain": [
       "<matplotlib.axes._subplots.AxesSubplot at 0x511e4c8>"
      ]
     },
     "execution_count": 7,
     "metadata": {},
     "output_type": "execute_result"
    },
    {
     "data": {
      "image/png": "[encoded data removed]",
      "text/plain": [
       "<Figure size 432x288 with 1 Axes>"
      ]
     },
     "metadata": {
      "needs_background": "light"
     },
     "output_type": "display_data"
    }
   ],
   "source": [
    "#barplot on gender\n",
    "seb.countplot(train_data['bedrooms'])"
   ]
  },
  {
   "cell_type": "code",
   "execution_count": 8,
   "metadata": {
    "scrolled": true
   },
   "outputs": [
    {
     "data": {
      "text/plain": [
       "<matplotlib.axes._subplots.AxesSubplot at 0x9c32908>"
      ]
     },
     "execution_count": 8,
     "metadata": {},
     "output_type": "execute_result"
    },
    {
     "data": {
      "image/png": "[encoded data removed]",
      "text/plain": [
       "<Figure size 432x288 with 1 Axes>"
      ]
     },
     "metadata": {
      "needs_background": "light"
     },
     "output_type": "display_data"
    }
   ],
   "source": [
    "#barplot on martial status\n",
    "seb.countplot(train_data['floors'])"
   ]
  },
  {
   "cell_type": "code",
   "execution_count": 9,
   "metadata": {
    "scrolled": true
   },
   "outputs": [
    {
     "data": {
      "text/plain": [
       "<matplotlib.axes._subplots.AxesSubplot at 0xc044248>"
      ]
     },
     "execution_count": 9,
     "metadata": {},
     "output_type": "execute_result"
    },
    {
     "data": {
      "image/png": "[encoded data removed]",
      "text/plain": [
       "<Figure size 432x288 with 1 Axes>"
      ]
     },
     "metadata": {
      "needs_background": "light"
     },
     "output_type": "display_data"
    }
   ],
   "source": [
    "#barplot on martial status\n",
    "seb.countplot(train_data['bathrooms'])"
   ]
  },
  {
   "cell_type": "code",
   "execution_count": 10,
   "metadata": {
    "scrolled": true
   },
   "outputs": [
    {
     "data": {
      "text/plain": [
       "<matplotlib.axes._subplots.AxesSubplot at 0xbfb9208>"
      ]
     },
     "execution_count": 10,
     "metadata": {},
     "output_type": "execute_result"
    },
    {
     "data": {
      "image/png": "[encoded data removed]",
      "text/plain": [
       "<Figure size 432x288 with 1 Axes>"
      ]
     },
     "metadata": {
      "needs_background": "light"
     },
     "output_type": "display_data"
    }
   ],
   "source": [
    "#barplot on stay in current city\n",
    "seb.countplot(train_data['waterfront'])"
   ]
  },
  {
   "cell_type": "code",
   "execution_count": 11,
   "metadata": {
    "scrolled": true
   },
   "outputs": [
    {
     "data": {
      "text/plain": [
       "<matplotlib.axes._subplots.AxesSubplot at 0xc132448>"
      ]
     },
     "execution_count": 11,
     "metadata": {},
     "output_type": "execute_result"
    },
    {
     "data": {
      "image/png": "[encoded data removed]",
      "text/plain": [
       "<Figure size 432x288 with 1 Axes>"
      ]
     },
     "metadata": {
      "needs_background": "light"
     },
     "output_type": "display_data"
    }
   ],
   "source": [
    "seb.countplot(train_data['grade'])"
   ]
  },
  {
   "cell_type": "markdown",
   "metadata": {},
   "source": [
    "### 3. Encoding the data set so as to make it easy for building machine learning model\n",
    "- The original data has <b>non-numerical</b> entries for few columns\n",
    "- We encode these non-numerical entries using <b>LabelEncoder</b>"
   ]
  },
  {
   "cell_type": "code",
   "execution_count": 12,
   "metadata": {
    "scrolled": false
   },
   "outputs": [
    {
     "data": {
      "text/html": [
       "<div>\n",
       "<style scoped>\n",
       "    .dataframe tbody tr th:only-of-type {\n",
       "        vertical-align: middle;\n",
       "    }\n",
       "\n",
       "    .dataframe tbody tr th {\n",
       "        vertical-align: top;\n",
       "    }\n",
       "\n",
       "    .dataframe thead th {\n",
       "        text-align: right;\n",
       "    }\n",
       "</style>\n",
       "<table border=\"1\" class=\"dataframe\">\n",
       "  <thead>\n",
       "    <tr style=\"text-align: right;\">\n",
       "      <th></th>\n",
       "      <th>id</th>\n",
       "      <th>date</th>\n",
       "      <th>bedrooms</th>\n",
       "      <th>bathrooms</th>\n",
       "      <th>sqft_living</th>\n",
       "      <th>sqft_lot</th>\n",
       "      <th>floors</th>\n",
       "      <th>waterfront</th>\n",
       "      <th>view</th>\n",
       "      <th>condition</th>\n",
       "      <th>grade</th>\n",
       "      <th>sqft_above</th>\n",
       "      <th>sqft_basement</th>\n",
       "      <th>yr_built</th>\n",
       "      <th>yr_renovated</th>\n",
       "      <th>zipcode</th>\n",
       "      <th>lat</th>\n",
       "      <th>long</th>\n",
       "      <th>price</th>\n",
       "    </tr>\n",
       "  </thead>\n",
       "  <tbody>\n",
       "    <tr>\n",
       "      <th>0</th>\n",
       "      <td>7129300520</td>\n",
       "      <td>20141013</td>\n",
       "      <td>3</td>\n",
       "      <td>1</td>\n",
       "      <td>1180</td>\n",
       "      <td>5650</td>\n",
       "      <td>1</td>\n",
       "      <td>0</td>\n",
       "      <td>0</td>\n",
       "      <td>3</td>\n",
       "      <td>7</td>\n",
       "      <td>1180</td>\n",
       "      <td>0</td>\n",
       "      <td>1955</td>\n",
       "      <td>1995.0</td>\n",
       "      <td>98178</td>\n",
       "      <td>47.5112</td>\n",
       "      <td>-1227.000</td>\n",
       "      <td>221900</td>\n",
       "    </tr>\n",
       "    <tr>\n",
       "      <th>1</th>\n",
       "      <td>6414100192</td>\n",
       "      <td>20141209</td>\n",
       "      <td>3</td>\n",
       "      <td>2</td>\n",
       "      <td>2570</td>\n",
       "      <td>7242</td>\n",
       "      <td>2</td>\n",
       "      <td>0</td>\n",
       "      <td>0</td>\n",
       "      <td>3</td>\n",
       "      <td>7</td>\n",
       "      <td>2170</td>\n",
       "      <td>400</td>\n",
       "      <td>1951</td>\n",
       "      <td>1991.0</td>\n",
       "      <td>98125</td>\n",
       "      <td>47.7210</td>\n",
       "      <td>-122.319</td>\n",
       "      <td>538000</td>\n",
       "    </tr>\n",
       "    <tr>\n",
       "      <th>2</th>\n",
       "      <td>5631500400</td>\n",
       "      <td>20150225</td>\n",
       "      <td>2</td>\n",
       "      <td>1</td>\n",
       "      <td>770</td>\n",
       "      <td>10000</td>\n",
       "      <td>1</td>\n",
       "      <td>0</td>\n",
       "      <td>0</td>\n",
       "      <td>3</td>\n",
       "      <td>6</td>\n",
       "      <td>770</td>\n",
       "      <td>0</td>\n",
       "      <td>1933</td>\n",
       "      <td>1995.0</td>\n",
       "      <td>98028</td>\n",
       "      <td>47.7379</td>\n",
       "      <td>-122.233</td>\n",
       "      <td>180000</td>\n",
       "    </tr>\n",
       "    <tr>\n",
       "      <th>3</th>\n",
       "      <td>2487200875</td>\n",
       "      <td>20141209</td>\n",
       "      <td>4</td>\n",
       "      <td>3</td>\n",
       "      <td>1960</td>\n",
       "      <td>5000</td>\n",
       "      <td>1</td>\n",
       "      <td>0</td>\n",
       "      <td>0</td>\n",
       "      <td>5</td>\n",
       "      <td>7</td>\n",
       "      <td>1050</td>\n",
       "      <td>910</td>\n",
       "      <td>1965</td>\n",
       "      <td>1995.0</td>\n",
       "      <td>98136</td>\n",
       "      <td>47.5208</td>\n",
       "      <td>-122.393</td>\n",
       "      <td>604000</td>\n",
       "    </tr>\n",
       "    <tr>\n",
       "      <th>4</th>\n",
       "      <td>1954400510</td>\n",
       "      <td>20150218</td>\n",
       "      <td>3</td>\n",
       "      <td>2</td>\n",
       "      <td>1680</td>\n",
       "      <td>8080</td>\n",
       "      <td>1</td>\n",
       "      <td>0</td>\n",
       "      <td>0</td>\n",
       "      <td>3</td>\n",
       "      <td>8</td>\n",
       "      <td>1680</td>\n",
       "      <td>0</td>\n",
       "      <td>1987</td>\n",
       "      <td>1995.0</td>\n",
       "      <td>98074</td>\n",
       "      <td>47.6168</td>\n",
       "      <td>-122.045</td>\n",
       "      <td>510000</td>\n",
       "    </tr>\n",
       "    <tr>\n",
       "      <th>5</th>\n",
       "      <td>7237550310</td>\n",
       "      <td>20140512</td>\n",
       "      <td>4</td>\n",
       "      <td>2</td>\n",
       "      <td>5420</td>\n",
       "      <td>101930</td>\n",
       "      <td>1</td>\n",
       "      <td>0</td>\n",
       "      <td>0</td>\n",
       "      <td>3</td>\n",
       "      <td>10</td>\n",
       "      <td>3890</td>\n",
       "      <td>1530</td>\n",
       "      <td>2001</td>\n",
       "      <td>1995.0</td>\n",
       "      <td>98053</td>\n",
       "      <td>47.6561</td>\n",
       "      <td>-122.005</td>\n",
       "      <td>1225000</td>\n",
       "    </tr>\n",
       "    <tr>\n",
       "      <th>6</th>\n",
       "      <td>1321400060</td>\n",
       "      <td>20140627</td>\n",
       "      <td>3</td>\n",
       "      <td>2</td>\n",
       "      <td>1715</td>\n",
       "      <td>6819</td>\n",
       "      <td>2</td>\n",
       "      <td>0</td>\n",
       "      <td>0</td>\n",
       "      <td>3</td>\n",
       "      <td>7</td>\n",
       "      <td>1715</td>\n",
       "      <td>0</td>\n",
       "      <td>1995</td>\n",
       "      <td>1995.0</td>\n",
       "      <td>98003</td>\n",
       "      <td>47.3097</td>\n",
       "      <td>-122.327</td>\n",
       "      <td>257500</td>\n",
       "    </tr>\n",
       "    <tr>\n",
       "      <th>7</th>\n",
       "      <td>2008000270</td>\n",
       "      <td>20150115</td>\n",
       "      <td>3</td>\n",
       "      <td>2</td>\n",
       "      <td>1060</td>\n",
       "      <td>9711</td>\n",
       "      <td>1</td>\n",
       "      <td>0</td>\n",
       "      <td>0</td>\n",
       "      <td>3</td>\n",
       "      <td>7</td>\n",
       "      <td>1060</td>\n",
       "      <td>0</td>\n",
       "      <td>1963</td>\n",
       "      <td>1995.0</td>\n",
       "      <td>98198</td>\n",
       "      <td>47.4095</td>\n",
       "      <td>-122.315</td>\n",
       "      <td>291850</td>\n",
       "    </tr>\n",
       "    <tr>\n",
       "      <th>8</th>\n",
       "      <td>2414600126</td>\n",
       "      <td>20150415</td>\n",
       "      <td>3</td>\n",
       "      <td>1</td>\n",
       "      <td>1780</td>\n",
       "      <td>7470</td>\n",
       "      <td>1</td>\n",
       "      <td>0</td>\n",
       "      <td>0</td>\n",
       "      <td>3</td>\n",
       "      <td>7</td>\n",
       "      <td>1050</td>\n",
       "      <td>730</td>\n",
       "      <td>1960</td>\n",
       "      <td>1995.0</td>\n",
       "      <td>98146</td>\n",
       "      <td>47.5123</td>\n",
       "      <td>-122.337</td>\n",
       "      <td>229500</td>\n",
       "    </tr>\n",
       "    <tr>\n",
       "      <th>9</th>\n",
       "      <td>3793500160</td>\n",
       "      <td>20150312</td>\n",
       "      <td>3</td>\n",
       "      <td>2</td>\n",
       "      <td>1890</td>\n",
       "      <td>6560</td>\n",
       "      <td>2</td>\n",
       "      <td>0</td>\n",
       "      <td>0</td>\n",
       "      <td>3</td>\n",
       "      <td>7</td>\n",
       "      <td>1890</td>\n",
       "      <td>0</td>\n",
       "      <td>2003</td>\n",
       "      <td>1995.0</td>\n",
       "      <td>98038</td>\n",
       "      <td>47.3684</td>\n",
       "      <td>-122.031</td>\n",
       "      <td>323000</td>\n",
       "    </tr>\n",
       "  </tbody>\n",
       "</table>\n",
       "</div>"
      ],
      "text/plain": [
       "           id      date  bedrooms  bathrooms  sqft_living  sqft_lot  floors  \\\n",
       "0  7129300520  20141013         3          1         1180      5650       1   \n",
       "1  6414100192  20141209         3          2         2570      7242       2   \n",
       "2  5631500400  20150225         2          1          770     10000       1   \n",
       "3  2487200875  20141209         4          3         1960      5000       1   \n",
       "4  1954400510  20150218         3          2         1680      8080       1   \n",
       "5  7237550310  20140512         4          2         5420    101930       1   \n",
       "6  1321400060  20140627         3          2         1715      6819       2   \n",
       "7  2008000270  20150115         3          2         1060      9711       1   \n",
       "8  2414600126  20150415         3          1         1780      7470       1   \n",
       "9  3793500160  20150312         3          2         1890      6560       2   \n",
       "\n",
       "   waterfront  view  condition  grade  sqft_above  sqft_basement  yr_built  \\\n",
       "0           0     0          3      7        1180              0      1955   \n",
       "1           0     0          3      7        2170            400      1951   \n",
       "2           0     0          3      6         770              0      1933   \n",
       "3           0     0          5      7        1050            910      1965   \n",
       "4           0     0          3      8        1680              0      1987   \n",
       "5           0     0          3     10        3890           1530      2001   \n",
       "6           0     0          3      7        1715              0      1995   \n",
       "7           0     0          3      7        1060              0      1963   \n",
       "8           0     0          3      7        1050            730      1960   \n",
       "9           0     0          3      7        1890              0      2003   \n",
       "\n",
       "   yr_renovated  zipcode      lat      long    price  \n",
       "0        1995.0    98178  47.5112 -1227.000   221900  \n",
       "1        1991.0    98125  47.7210  -122.319   538000  \n",
       "2        1995.0    98028  47.7379  -122.233   180000  \n",
       "3        1995.0    98136  47.5208  -122.393   604000  \n",
       "4        1995.0    98074  47.6168  -122.045   510000  \n",
       "5        1995.0    98053  47.6561  -122.005  1225000  \n",
       "6        1995.0    98003  47.3097  -122.327   257500  \n",
       "7        1995.0    98198  47.4095  -122.315   291850  \n",
       "8        1995.0    98146  47.5123  -122.337   229500  \n",
       "9        1995.0    98038  47.3684  -122.031   323000  "
      ]
     },
     "execution_count": 12,
     "metadata": {},
     "output_type": "execute_result"
    }
   ],
   "source": [
    "label_enc = LabelEncoder()\n",
    "data_enc = train_data\n",
    "\n",
    "# encoding few string-contained columns\n",
    "#data_enc.Product_ID = label_enc.fit_transform(train_data.Product_ID)\n",
    "data_enc.waterfront = label_enc.fit_transform(train_data.waterfront)\n",
    "data_enc.head(10)\n",
    "\n"
   ]
  },
  {
   "cell_type": "markdown",
   "metadata": {},
   "source": [
    "#### Finding the correlation using corr()"
   ]
  },
  {
   "cell_type": "code",
   "execution_count": 13,
   "metadata": {
    "scrolled": true
   },
   "outputs": [
    {
     "data": {
      "text/html": [
       "<div>\n",
       "<style scoped>\n",
       "    .dataframe tbody tr th:only-of-type {\n",
       "        vertical-align: middle;\n",
       "    }\n",
       "\n",
       "    .dataframe tbody tr th {\n",
       "        vertical-align: top;\n",
       "    }\n",
       "\n",
       "    .dataframe thead th {\n",
       "        text-align: right;\n",
       "    }\n",
       "</style>\n",
       "<table border=\"1\" class=\"dataframe\">\n",
       "  <thead>\n",
       "    <tr style=\"text-align: right;\">\n",
       "      <th></th>\n",
       "      <th>id</th>\n",
       "      <th>date</th>\n",
       "      <th>bedrooms</th>\n",
       "      <th>bathrooms</th>\n",
       "      <th>sqft_living</th>\n",
       "      <th>sqft_lot</th>\n",
       "      <th>floors</th>\n",
       "      <th>waterfront</th>\n",
       "      <th>view</th>\n",
       "      <th>condition</th>\n",
       "      <th>grade</th>\n",
       "      <th>sqft_above</th>\n",
       "      <th>sqft_basement</th>\n",
       "      <th>yr_built</th>\n",
       "      <th>yr_renovated</th>\n",
       "      <th>zipcode</th>\n",
       "      <th>lat</th>\n",
       "      <th>long</th>\n",
       "      <th>price</th>\n",
       "    </tr>\n",
       "  </thead>\n",
       "  <tbody>\n",
       "    <tr>\n",
       "      <th>id</th>\n",
       "      <td>1.000000</td>\n",
       "      <td>-0.010762</td>\n",
       "      <td>-0.011548</td>\n",
       "      <td>-0.016311</td>\n",
       "      <td>-0.004928</td>\n",
       "      <td>-0.137410</td>\n",
       "      <td>0.014862</td>\n",
       "      <td>-0.042106</td>\n",
       "      <td>-0.001824</td>\n",
       "      <td>-0.061638</td>\n",
       "      <td>0.019061</td>\n",
       "      <td>-0.004273</td>\n",
       "      <td>-0.002152</td>\n",
       "      <td>0.047656</td>\n",
       "      <td>0.016310</td>\n",
       "      <td>-0.051605</td>\n",
       "      <td>0.002791</td>\n",
       "      <td>0.034272</td>\n",
       "      <td>-0.009977</td>\n",
       "    </tr>\n",
       "    <tr>\n",
       "      <th>date</th>\n",
       "      <td>-0.010762</td>\n",
       "      <td>1.000000</td>\n",
       "      <td>-0.028534</td>\n",
       "      <td>-0.048033</td>\n",
       "      <td>-0.036402</td>\n",
       "      <td>-0.015133</td>\n",
       "      <td>-0.031784</td>\n",
       "      <td>0.012839</td>\n",
       "      <td>-0.026443</td>\n",
       "      <td>-0.006256</td>\n",
       "      <td>-0.033873</td>\n",
       "      <td>-0.028499</td>\n",
       "      <td>-0.021415</td>\n",
       "      <td>-0.016914</td>\n",
       "      <td>-0.007876</td>\n",
       "      <td>0.031447</td>\n",
       "      <td>-0.013912</td>\n",
       "      <td>0.013217</td>\n",
       "      <td>-0.000339</td>\n",
       "    </tr>\n",
       "    <tr>\n",
       "      <th>bedrooms</th>\n",
       "      <td>-0.011548</td>\n",
       "      <td>-0.028534</td>\n",
       "      <td>1.000000</td>\n",
       "      <td>0.411505</td>\n",
       "      <td>0.571282</td>\n",
       "      <td>0.073981</td>\n",
       "      <td>0.169489</td>\n",
       "      <td>-0.049278</td>\n",
       "      <td>0.048496</td>\n",
       "      <td>0.060039</td>\n",
       "      <td>0.369390</td>\n",
       "      <td>0.474588</td>\n",
       "      <td>0.286797</td>\n",
       "      <td>0.134049</td>\n",
       "      <td>-0.004393</td>\n",
       "      <td>-0.184012</td>\n",
       "      <td>-0.021883</td>\n",
       "      <td>-0.006409</td>\n",
       "      <td>0.303599</td>\n",
       "    </tr>\n",
       "    <tr>\n",
       "      <th>bathrooms</th>\n",
       "      <td>-0.016311</td>\n",
       "      <td>-0.048033</td>\n",
       "      <td>0.411505</td>\n",
       "      <td>1.000000</td>\n",
       "      <td>0.601395</td>\n",
       "      <td>0.146873</td>\n",
       "      <td>0.301025</td>\n",
       "      <td>0.078414</td>\n",
       "      <td>0.177024</td>\n",
       "      <td>-0.035326</td>\n",
       "      <td>0.528014</td>\n",
       "      <td>0.510290</td>\n",
       "      <td>0.282650</td>\n",
       "      <td>0.397705</td>\n",
       "      <td>0.021363</td>\n",
       "      <td>-0.192022</td>\n",
       "      <td>0.033754</td>\n",
       "      <td>0.016391</td>\n",
       "      <td>0.425656</td>\n",
       "    </tr>\n",
       "    <tr>\n",
       "      <th>sqft_living</th>\n",
       "      <td>-0.004928</td>\n",
       "      <td>-0.036402</td>\n",
       "      <td>0.571282</td>\n",
       "      <td>0.601395</td>\n",
       "      <td>1.000000</td>\n",
       "      <td>0.214275</td>\n",
       "      <td>0.300259</td>\n",
       "      <td>0.079774</td>\n",
       "      <td>0.287092</td>\n",
       "      <td>-0.012205</td>\n",
       "      <td>0.749524</td>\n",
       "      <td>0.866689</td>\n",
       "      <td>0.437214</td>\n",
       "      <td>0.306083</td>\n",
       "      <td>0.007393</td>\n",
       "      <td>-0.226821</td>\n",
       "      <td>0.094235</td>\n",
       "      <td>0.022583</td>\n",
       "      <td>0.699724</td>\n",
       "    </tr>\n",
       "    <tr>\n",
       "      <th>sqft_lot</th>\n",
       "      <td>-0.137410</td>\n",
       "      <td>-0.015133</td>\n",
       "      <td>0.073981</td>\n",
       "      <td>0.146873</td>\n",
       "      <td>0.214275</td>\n",
       "      <td>1.000000</td>\n",
       "      <td>-0.025371</td>\n",
       "      <td>0.032709</td>\n",
       "      <td>0.044916</td>\n",
       "      <td>-0.018077</td>\n",
       "      <td>0.115099</td>\n",
       "      <td>0.230302</td>\n",
       "      <td>0.013289</td>\n",
       "      <td>0.088226</td>\n",
       "      <td>-0.003742</td>\n",
       "      <td>-0.139370</td>\n",
       "      <td>-0.023058</td>\n",
       "      <td>0.013008</td>\n",
       "      <td>0.126084</td>\n",
       "    </tr>\n",
       "    <tr>\n",
       "      <th>floors</th>\n",
       "      <td>0.014862</td>\n",
       "      <td>-0.031784</td>\n",
       "      <td>0.169489</td>\n",
       "      <td>0.301025</td>\n",
       "      <td>0.300259</td>\n",
       "      <td>-0.025371</td>\n",
       "      <td>1.000000</td>\n",
       "      <td>-0.008230</td>\n",
       "      <td>-0.016383</td>\n",
       "      <td>-0.206813</td>\n",
       "      <td>0.392831</td>\n",
       "      <td>0.487184</td>\n",
       "      <td>-0.277887</td>\n",
       "      <td>0.357227</td>\n",
       "      <td>0.009842</td>\n",
       "      <td>-0.020367</td>\n",
       "      <td>0.088723</td>\n",
       "      <td>0.010945</td>\n",
       "      <td>0.232936</td>\n",
       "    </tr>\n",
       "    <tr>\n",
       "      <th>waterfront</th>\n",
       "      <td>-0.042106</td>\n",
       "      <td>0.012839</td>\n",
       "      <td>-0.049278</td>\n",
       "      <td>0.078414</td>\n",
       "      <td>0.079774</td>\n",
       "      <td>0.032709</td>\n",
       "      <td>-0.008230</td>\n",
       "      <td>1.000000</td>\n",
       "      <td>0.374299</td>\n",
       "      <td>0.051704</td>\n",
       "      <td>0.052926</td>\n",
       "      <td>0.048172</td>\n",
       "      <td>0.072679</td>\n",
       "      <td>-0.021861</td>\n",
       "      <td>-0.000974</td>\n",
       "      <td>0.032525</td>\n",
       "      <td>-0.027314</td>\n",
       "      <td>0.009433</td>\n",
       "      <td>0.275155</td>\n",
       "    </tr>\n",
       "    <tr>\n",
       "      <th>view</th>\n",
       "      <td>-0.001824</td>\n",
       "      <td>-0.026443</td>\n",
       "      <td>0.048496</td>\n",
       "      <td>0.177024</td>\n",
       "      <td>0.287092</td>\n",
       "      <td>0.044916</td>\n",
       "      <td>-0.016383</td>\n",
       "      <td>0.374299</td>\n",
       "      <td>1.000000</td>\n",
       "      <td>0.076940</td>\n",
       "      <td>0.232820</td>\n",
       "      <td>0.141854</td>\n",
       "      <td>0.318367</td>\n",
       "      <td>-0.044622</td>\n",
       "      <td>-0.003092</td>\n",
       "      <td>0.068921</td>\n",
       "      <td>0.012368</td>\n",
       "      <td>-0.009300</td>\n",
       "      <td>0.428553</td>\n",
       "    </tr>\n",
       "    <tr>\n",
       "      <th>condition</th>\n",
       "      <td>-0.061638</td>\n",
       "      <td>-0.006256</td>\n",
       "      <td>0.060039</td>\n",
       "      <td>-0.035326</td>\n",
       "      <td>-0.012205</td>\n",
       "      <td>-0.018077</td>\n",
       "      <td>-0.206813</td>\n",
       "      <td>0.051704</td>\n",
       "      <td>0.076940</td>\n",
       "      <td>1.000000</td>\n",
       "      <td>-0.085566</td>\n",
       "      <td>-0.106407</td>\n",
       "      <td>0.167431</td>\n",
       "      <td>-0.339413</td>\n",
       "      <td>-0.007694</td>\n",
       "      <td>0.034816</td>\n",
       "      <td>-0.050107</td>\n",
       "      <td>0.002231</td>\n",
       "      <td>0.059768</td>\n",
       "    </tr>\n",
       "    <tr>\n",
       "      <th>grade</th>\n",
       "      <td>0.019061</td>\n",
       "      <td>-0.033873</td>\n",
       "      <td>0.369390</td>\n",
       "      <td>0.528014</td>\n",
       "      <td>0.749524</td>\n",
       "      <td>0.115099</td>\n",
       "      <td>0.392831</td>\n",
       "      <td>0.052926</td>\n",
       "      <td>0.232820</td>\n",
       "      <td>-0.085566</td>\n",
       "      <td>1.000000</td>\n",
       "      <td>0.734557</td>\n",
       "      <td>0.174544</td>\n",
       "      <td>0.450560</td>\n",
       "      <td>0.014208</td>\n",
       "      <td>-0.196104</td>\n",
       "      <td>0.123797</td>\n",
       "      <td>0.024042</td>\n",
       "      <td>0.627424</td>\n",
       "    </tr>\n",
       "    <tr>\n",
       "      <th>sqft_above</th>\n",
       "      <td>-0.004273</td>\n",
       "      <td>-0.028499</td>\n",
       "      <td>0.474588</td>\n",
       "      <td>0.510290</td>\n",
       "      <td>0.866689</td>\n",
       "      <td>0.230302</td>\n",
       "      <td>0.487184</td>\n",
       "      <td>0.048172</td>\n",
       "      <td>0.141854</td>\n",
       "      <td>-0.106407</td>\n",
       "      <td>0.734557</td>\n",
       "      <td>1.000000</td>\n",
       "      <td>-0.069714</td>\n",
       "      <td>0.409371</td>\n",
       "      <td>0.001118</td>\n",
       "      <td>-0.267220</td>\n",
       "      <td>0.028908</td>\n",
       "      <td>0.008110</td>\n",
       "      <td>0.587984</td>\n",
       "    </tr>\n",
       "    <tr>\n",
       "      <th>sqft_basement</th>\n",
       "      <td>-0.002152</td>\n",
       "      <td>-0.021415</td>\n",
       "      <td>0.286797</td>\n",
       "      <td>0.282650</td>\n",
       "      <td>0.437214</td>\n",
       "      <td>0.013289</td>\n",
       "      <td>-0.277887</td>\n",
       "      <td>0.072679</td>\n",
       "      <td>0.318367</td>\n",
       "      <td>0.167431</td>\n",
       "      <td>0.174544</td>\n",
       "      <td>-0.069714</td>\n",
       "      <td>1.000000</td>\n",
       "      <td>-0.125955</td>\n",
       "      <td>0.012767</td>\n",
       "      <td>0.028179</td>\n",
       "      <td>0.136328</td>\n",
       "      <td>0.030539</td>\n",
       "      <td>0.339209</td>\n",
       "    </tr>\n",
       "    <tr>\n",
       "      <th>yr_built</th>\n",
       "      <td>0.047656</td>\n",
       "      <td>-0.016914</td>\n",
       "      <td>0.134049</td>\n",
       "      <td>0.397705</td>\n",
       "      <td>0.306083</td>\n",
       "      <td>0.088226</td>\n",
       "      <td>0.357227</td>\n",
       "      <td>-0.021861</td>\n",
       "      <td>-0.044622</td>\n",
       "      <td>-0.339413</td>\n",
       "      <td>0.450560</td>\n",
       "      <td>0.409371</td>\n",
       "      <td>-0.125955</td>\n",
       "      <td>1.000000</td>\n",
       "      <td>-0.023305</td>\n",
       "      <td>-0.373272</td>\n",
       "      <td>-0.161404</td>\n",
       "      <td>-0.036948</td>\n",
       "      <td>0.039275</td>\n",
       "    </tr>\n",
       "    <tr>\n",
       "      <th>yr_renovated</th>\n",
       "      <td>0.016310</td>\n",
       "      <td>-0.007876</td>\n",
       "      <td>-0.004393</td>\n",
       "      <td>0.021363</td>\n",
       "      <td>0.007393</td>\n",
       "      <td>-0.003742</td>\n",
       "      <td>0.009842</td>\n",
       "      <td>-0.000974</td>\n",
       "      <td>-0.003092</td>\n",
       "      <td>-0.007694</td>\n",
       "      <td>0.014208</td>\n",
       "      <td>0.001118</td>\n",
       "      <td>0.012767</td>\n",
       "      <td>-0.023305</td>\n",
       "      <td>1.000000</td>\n",
       "      <td>0.006488</td>\n",
       "      <td>0.008882</td>\n",
       "      <td>0.001352</td>\n",
       "      <td>0.014177</td>\n",
       "    </tr>\n",
       "    <tr>\n",
       "      <th>zipcode</th>\n",
       "      <td>-0.051605</td>\n",
       "      <td>0.031447</td>\n",
       "      <td>-0.184012</td>\n",
       "      <td>-0.192022</td>\n",
       "      <td>-0.226821</td>\n",
       "      <td>-0.139370</td>\n",
       "      <td>-0.020367</td>\n",
       "      <td>0.032525</td>\n",
       "      <td>0.068921</td>\n",
       "      <td>0.034816</td>\n",
       "      <td>-0.196104</td>\n",
       "      <td>-0.267220</td>\n",
       "      <td>0.028179</td>\n",
       "      <td>-0.373272</td>\n",
       "      <td>0.006488</td>\n",
       "      <td>1.000000</td>\n",
       "      <td>0.265501</td>\n",
       "      <td>0.009277</td>\n",
       "      <td>-0.051247</td>\n",
       "    </tr>\n",
       "    <tr>\n",
       "      <th>lat</th>\n",
       "      <td>0.002791</td>\n",
       "      <td>-0.013912</td>\n",
       "      <td>-0.021883</td>\n",
       "      <td>0.033754</td>\n",
       "      <td>0.094235</td>\n",
       "      <td>-0.023058</td>\n",
       "      <td>0.088723</td>\n",
       "      <td>-0.027314</td>\n",
       "      <td>0.012368</td>\n",
       "      <td>-0.050107</td>\n",
       "      <td>0.123797</td>\n",
       "      <td>0.028908</td>\n",
       "      <td>0.136328</td>\n",
       "      <td>-0.161404</td>\n",
       "      <td>0.008882</td>\n",
       "      <td>0.265501</td>\n",
       "      <td>1.000000</td>\n",
       "      <td>0.076498</td>\n",
       "      <td>0.353265</td>\n",
       "    </tr>\n",
       "    <tr>\n",
       "      <th>long</th>\n",
       "      <td>0.034272</td>\n",
       "      <td>0.013217</td>\n",
       "      <td>-0.006409</td>\n",
       "      <td>0.016391</td>\n",
       "      <td>0.022583</td>\n",
       "      <td>0.013008</td>\n",
       "      <td>0.010945</td>\n",
       "      <td>0.009433</td>\n",
       "      <td>-0.009300</td>\n",
       "      <td>0.002231</td>\n",
       "      <td>0.024042</td>\n",
       "      <td>0.008110</td>\n",
       "      <td>0.030539</td>\n",
       "      <td>-0.036948</td>\n",
       "      <td>0.001352</td>\n",
       "      <td>0.009277</td>\n",
       "      <td>0.076498</td>\n",
       "      <td>1.000000</td>\n",
       "      <td>0.047649</td>\n",
       "    </tr>\n",
       "    <tr>\n",
       "      <th>price</th>\n",
       "      <td>-0.009977</td>\n",
       "      <td>-0.000339</td>\n",
       "      <td>0.303599</td>\n",
       "      <td>0.425656</td>\n",
       "      <td>0.699724</td>\n",
       "      <td>0.126084</td>\n",
       "      <td>0.232936</td>\n",
       "      <td>0.275155</td>\n",
       "      <td>0.428553</td>\n",
       "      <td>0.059768</td>\n",
       "      <td>0.627424</td>\n",
       "      <td>0.587984</td>\n",
       "      <td>0.339209</td>\n",
       "      <td>0.039275</td>\n",
       "      <td>0.014177</td>\n",
       "      <td>-0.051247</td>\n",
       "      <td>0.353265</td>\n",
       "      <td>0.047649</td>\n",
       "      <td>1.000000</td>\n",
       "    </tr>\n",
       "  </tbody>\n",
       "</table>\n",
       "</div>"
      ],
      "text/plain": [
       "                     id      date  bedrooms  bathrooms  sqft_living  sqft_lot  \\\n",
       "id             1.000000 -0.010762 -0.011548  -0.016311    -0.004928 -0.137410   \n",
       "date          -0.010762  1.000000 -0.028534  -0.048033    -0.036402 -0.015133   \n",
       "bedrooms      -0.011548 -0.028534  1.000000   0.411505     0.571282  0.073981   \n",
       "bathrooms     -0.016311 -0.048033  0.411505   1.000000     0.601395  0.146873   \n",
       "sqft_living   -0.004928 -0.036402  0.571282   0.601395     1.000000  0.214275   \n",
       "sqft_lot      -0.137410 -0.015133  0.073981   0.146873     0.214275  1.000000   \n",
       "floors         0.014862 -0.031784  0.169489   0.301025     0.300259 -0.025371   \n",
       "waterfront    -0.042106  0.012839 -0.049278   0.078414     0.079774  0.032709   \n",
       "view          -0.001824 -0.026443  0.048496   0.177024     0.287092  0.044916   \n",
       "condition     -0.061638 -0.006256  0.060039  -0.035326    -0.012205 -0.018077   \n",
       "grade          0.019061 -0.033873  0.369390   0.528014     0.749524  0.115099   \n",
       "sqft_above    -0.004273 -0.028499  0.474588   0.510290     0.866689  0.230302   \n",
       "sqft_basement -0.002152 -0.021415  0.286797   0.282650     0.437214  0.013289   \n",
       "yr_built       0.047656 -0.016914  0.134049   0.397705     0.306083  0.088226   \n",
       "yr_renovated   0.016310 -0.007876 -0.004393   0.021363     0.007393 -0.003742   \n",
       "zipcode       -0.051605  0.031447 -0.184012  -0.192022    -0.226821 -0.139370   \n",
       "lat            0.002791 -0.013912 -0.021883   0.033754     0.094235 -0.023058   \n",
       "long           0.034272  0.013217 -0.006409   0.016391     0.022583  0.013008   \n",
       "price         -0.009977 -0.000339  0.303599   0.425656     0.699724  0.126084   \n",
       "\n",
       "                 floors  waterfront      view  condition     grade  \\\n",
       "id             0.014862   -0.042106 -0.001824  -0.061638  0.019061   \n",
       "date          -0.031784    0.012839 -0.026443  -0.006256 -0.033873   \n",
       "bedrooms       0.169489   -0.049278  0.048496   0.060039  0.369390   \n",
       "bathrooms      0.301025    0.078414  0.177024  -0.035326  0.528014   \n",
       "sqft_living    0.300259    0.079774  0.287092  -0.012205  0.749524   \n",
       "sqft_lot      -0.025371    0.032709  0.044916  -0.018077  0.115099   \n",
       "floors         1.000000   -0.008230 -0.016383  -0.206813  0.392831   \n",
       "waterfront    -0.008230    1.000000  0.374299   0.051704  0.052926   \n",
       "view          -0.016383    0.374299  1.000000   0.076940  0.232820   \n",
       "condition     -0.206813    0.051704  0.076940   1.000000 -0.085566   \n",
       "grade          0.392831    0.052926  0.232820  -0.085566  1.000000   \n",
       "sqft_above     0.487184    0.048172  0.141854  -0.106407  0.734557   \n",
       "sqft_basement -0.277887    0.072679  0.318367   0.167431  0.174544   \n",
       "yr_built       0.357227   -0.021861 -0.044622  -0.339413  0.450560   \n",
       "yr_renovated   0.009842   -0.000974 -0.003092  -0.007694  0.014208   \n",
       "zipcode       -0.020367    0.032525  0.068921   0.034816 -0.196104   \n",
       "lat            0.088723   -0.027314  0.012368  -0.050107  0.123797   \n",
       "long           0.010945    0.009433 -0.009300   0.002231  0.024042   \n",
       "price          0.232936    0.275155  0.428553   0.059768  0.627424   \n",
       "\n",
       "               sqft_above  sqft_basement  yr_built  yr_renovated   zipcode  \\\n",
       "id              -0.004273      -0.002152  0.047656      0.016310 -0.051605   \n",
       "date            -0.028499      -0.021415 -0.016914     -0.007876  0.031447   \n",
       "bedrooms         0.474588       0.286797  0.134049     -0.004393 -0.184012   \n",
       "bathrooms        0.510290       0.282650  0.397705      0.021363 -0.192022   \n",
       "sqft_living      0.866689       0.437214  0.306083      0.007393 -0.226821   \n",
       "sqft_lot         0.230302       0.013289  0.088226     -0.003742 -0.139370   \n",
       "floors           0.487184      -0.277887  0.357227      0.009842 -0.020367   \n",
       "waterfront       0.048172       0.072679 -0.021861     -0.000974  0.032525   \n",
       "view             0.141854       0.318367 -0.044622     -0.003092  0.068921   \n",
       "condition       -0.106407       0.167431 -0.339413     -0.007694  0.034816   \n",
       "grade            0.734557       0.174544  0.450560      0.014208 -0.196104   \n",
       "sqft_above       1.000000      -0.069714  0.409371      0.001118 -0.267220   \n",
       "sqft_basement   -0.069714       1.000000 -0.125955      0.012767  0.028179   \n",
       "yr_built         0.409371      -0.125955  1.000000     -0.023305 -0.373272   \n",
       "yr_renovated     0.001118       0.012767 -0.023305      1.000000  0.006488   \n",
       "zipcode         -0.267220       0.028179 -0.373272      0.006488  1.000000   \n",
       "lat              0.028908       0.136328 -0.161404      0.008882  0.265501   \n",
       "long             0.008110       0.030539 -0.036948      0.001352  0.009277   \n",
       "price            0.587984       0.339209  0.039275      0.014177 -0.051247   \n",
       "\n",
       "                    lat      long     price  \n",
       "id             0.002791  0.034272 -0.009977  \n",
       "date          -0.013912  0.013217 -0.000339  \n",
       "bedrooms      -0.021883 -0.006409  0.303599  \n",
       "bathrooms      0.033754  0.016391  0.425656  \n",
       "sqft_living    0.094235  0.022583  0.699724  \n",
       "sqft_lot      -0.023058  0.013008  0.126084  \n",
       "floors         0.088723  0.010945  0.232936  \n",
       "waterfront    -0.027314  0.009433  0.275155  \n",
       "view           0.012368 -0.009300  0.428553  \n",
       "condition     -0.050107  0.002231  0.059768  \n",
       "grade          0.123797  0.024042  0.627424  \n",
       "sqft_above     0.028908  0.008110  0.587984  \n",
       "sqft_basement  0.136328  0.030539  0.339209  \n",
       "yr_built      -0.161404 -0.036948  0.039275  \n",
       "yr_renovated   0.008882  0.001352  0.014177  \n",
       "zipcode        0.265501  0.009277 -0.051247  \n",
       "lat            1.000000  0.076498  0.353265  \n",
       "long           0.076498  1.000000  0.047649  \n",
       "price          0.353265  0.047649  1.000000  "
      ]
     },
     "execution_count": 13,
     "metadata": {},
     "output_type": "execute_result"
    }
   ],
   "source": [
    "#Finding the correlation using corr()\n",
    "train_data.corr()"
   ]
  },
  {
   "cell_type": "markdown",
   "metadata": {},
   "source": [
    "### visualizing the correlation"
   ]
  },
  {
   "cell_type": "code",
   "execution_count": 14,
   "metadata": {
    "scrolled": true
   },
   "outputs": [
    {
     "data": {
      "text/plain": [
       "<matplotlib.axes._subplots.AxesSubplot at 0xc1c8e88>"
      ]
     },
     "execution_count": 14,
     "metadata": {},
     "output_type": "execute_result"
    },
    {
     "data": {
      "image/png": "[encoded data removed]",
      "text/plain": [
       "<Figure size 1008x1008 with 2 Axes>"
      ]
     },
     "metadata": {
      "needs_background": "light"
     },
     "output_type": "display_data"
    }
   ],
   "source": [
    "#visualizing the correlation\n",
    "plt.figure(figsize=(14,14))\n",
    "seb.heatmap(train_data.corr(),annot=True,cmap='YlGnBu')"
   ]
  },
  {
   "cell_type": "markdown",
   "metadata": {},
   "source": [
    "## Declaring input and output variables\n",
    "- Input variables are considered as all the columns except the Purchase column\n",
    "- Output variables are considered as the last column, i.e, the Purchase column"
   ]
  },
  {
   "cell_type": "code",
   "execution_count": 15,
   "metadata": {
    "scrolled": true
   },
   "outputs": [],
   "source": [
    "#Declaring input and output variables\n",
    "X=train_data.drop(['price'],axis=1)\n",
    "y=train_data.price"
   ]
  },
  {
   "cell_type": "markdown",
   "metadata": {},
   "source": [
    "## Splitting the data into train and test sets\n",
    "- Input train and test sets are 2 dimensional\n",
    "- Output train and test sets are 1 dimensional"
   ]
  },
  {
   "cell_type": "code",
   "execution_count": 16,
   "metadata": {
    "scrolled": true
   },
   "outputs": [
    {
     "name": "stdout",
     "output_type": "stream",
     "text": [
      "(12685, 18)\n",
      "(4229, 18)\n",
      "(12685,)\n",
      "(4229,)\n"
     ]
    }
   ],
   "source": [
    "#divide the X and y into train and test\n",
    "from sklearn.model_selection import train_test_split\n",
    "X_train,X_test,y_train,y_test=train_test_split(X,y,test_size=0.25,random_state=0)\n",
    "print(X_train.shape)\n",
    "print(X_test.shape)\n",
    "print(y_train.shape)\n",
    "print(y_test.shape)"
   ]
  },
  {
   "cell_type": "markdown",
   "metadata": {},
   "source": [
    "## Fitting the data into Linear Regression model"
   ]
  },
  {
   "cell_type": "code",
   "execution_count": 17,
   "metadata": {
    "scrolled": true
   },
   "outputs": [
    {
     "data": {
      "text/plain": [
       "LinearRegression(copy_X=True, fit_intercept=True, n_jobs=None, normalize=False)"
      ]
     },
     "execution_count": 17,
     "metadata": {},
     "output_type": "execute_result"
    }
   ],
   "source": [
    "#Fitting the data into Linear Regression model\n",
    "from sklearn.linear_model import LinearRegression\n",
    "lm=LinearRegression()\n",
    "lm.fit(X_train,y_train)"
   ]
  },
  {
   "cell_type": "markdown",
   "metadata": {},
   "source": [
    "### intercept and coefficient values"
   ]
  },
  {
   "cell_type": "code",
   "execution_count": 18,
   "metadata": {
    "scrolled": true
   },
   "outputs": [
    {
     "name": "stdout",
     "output_type": "stream",
     "text": [
      "-33767304.94010432\n"
     ]
    },
    {
     "data": {
      "text/plain": [
       "array([ 5.88233281e-07,  2.15754209e+00, -2.47506127e+04,  2.73099272e+04,\n",
       "        1.14264864e+02, -2.37658193e-02,  2.05392556e+04,  7.20903847e+05,\n",
       "        7.29703986e+04,  1.45794269e+04,  8.03617001e+04,  6.94519701e+01,\n",
       "        4.48128937e+01, -2.45879731e+03, -1.75639331e-09, -3.48315771e+02,\n",
       "        6.05246026e+05,  9.67777415e+00])"
      ]
     },
     "execution_count": 18,
     "metadata": {},
     "output_type": "execute_result"
    }
   ],
   "source": [
    "#intercept and coefficient values\n",
    "print(lm.intercept_)\n",
    "lm.coef_"
   ]
  },
  {
   "cell_type": "markdown",
   "metadata": {},
   "source": [
    "### creating a dataframe for cofficients"
   ]
  },
  {
   "cell_type": "code",
   "execution_count": 19,
   "metadata": {
    "scrolled": true
   },
   "outputs": [
    {
     "data": {
      "text/html": [
       "<div>\n",
       "<style scoped>\n",
       "    .dataframe tbody tr th:only-of-type {\n",
       "        vertical-align: middle;\n",
       "    }\n",
       "\n",
       "    .dataframe tbody tr th {\n",
       "        vertical-align: top;\n",
       "    }\n",
       "\n",
       "    .dataframe thead th {\n",
       "        text-align: right;\n",
       "    }\n",
       "</style>\n",
       "<table border=\"1\" class=\"dataframe\">\n",
       "  <thead>\n",
       "    <tr style=\"text-align: right;\">\n",
       "      <th></th>\n",
       "      <th>0</th>\n",
       "      <th>1</th>\n",
       "    </tr>\n",
       "  </thead>\n",
       "  <tbody>\n",
       "    <tr>\n",
       "      <th>0</th>\n",
       "      <td>id</td>\n",
       "      <td>5.88233e-07</td>\n",
       "    </tr>\n",
       "    <tr>\n",
       "      <th>1</th>\n",
       "      <td>date</td>\n",
       "      <td>2.15754</td>\n",
       "    </tr>\n",
       "    <tr>\n",
       "      <th>2</th>\n",
       "      <td>bedrooms</td>\n",
       "      <td>-24750.6</td>\n",
       "    </tr>\n",
       "    <tr>\n",
       "      <th>3</th>\n",
       "      <td>bathrooms</td>\n",
       "      <td>27309.9</td>\n",
       "    </tr>\n",
       "    <tr>\n",
       "      <th>4</th>\n",
       "      <td>sqft_living</td>\n",
       "      <td>114.265</td>\n",
       "    </tr>\n",
       "    <tr>\n",
       "      <th>5</th>\n",
       "      <td>sqft_lot</td>\n",
       "      <td>-0.0237658</td>\n",
       "    </tr>\n",
       "    <tr>\n",
       "      <th>6</th>\n",
       "      <td>floors</td>\n",
       "      <td>20539.3</td>\n",
       "    </tr>\n",
       "    <tr>\n",
       "      <th>7</th>\n",
       "      <td>waterfront</td>\n",
       "      <td>720904</td>\n",
       "    </tr>\n",
       "    <tr>\n",
       "      <th>8</th>\n",
       "      <td>view</td>\n",
       "      <td>72970.4</td>\n",
       "    </tr>\n",
       "    <tr>\n",
       "      <th>9</th>\n",
       "      <td>condition</td>\n",
       "      <td>14579.4</td>\n",
       "    </tr>\n",
       "    <tr>\n",
       "      <th>10</th>\n",
       "      <td>grade</td>\n",
       "      <td>80361.7</td>\n",
       "    </tr>\n",
       "    <tr>\n",
       "      <th>11</th>\n",
       "      <td>sqft_above</td>\n",
       "      <td>69.452</td>\n",
       "    </tr>\n",
       "    <tr>\n",
       "      <th>12</th>\n",
       "      <td>sqft_basement</td>\n",
       "      <td>44.8129</td>\n",
       "    </tr>\n",
       "    <tr>\n",
       "      <th>13</th>\n",
       "      <td>yr_built</td>\n",
       "      <td>-2458.8</td>\n",
       "    </tr>\n",
       "    <tr>\n",
       "      <th>14</th>\n",
       "      <td>yr_renovated</td>\n",
       "      <td>-1.75639e-09</td>\n",
       "    </tr>\n",
       "    <tr>\n",
       "      <th>15</th>\n",
       "      <td>zipcode</td>\n",
       "      <td>-348.316</td>\n",
       "    </tr>\n",
       "    <tr>\n",
       "      <th>16</th>\n",
       "      <td>lat</td>\n",
       "      <td>605246</td>\n",
       "    </tr>\n",
       "    <tr>\n",
       "      <th>17</th>\n",
       "      <td>long</td>\n",
       "      <td>9.67777</td>\n",
       "    </tr>\n",
       "  </tbody>\n",
       "</table>\n",
       "</div>"
      ],
      "text/plain": [
       "                0            1\n",
       "0              id  5.88233e-07\n",
       "1            date      2.15754\n",
       "2        bedrooms     -24750.6\n",
       "3       bathrooms      27309.9\n",
       "4     sqft_living      114.265\n",
       "5        sqft_lot   -0.0237658\n",
       "6          floors      20539.3\n",
       "7      waterfront       720904\n",
       "8            view      72970.4\n",
       "9       condition      14579.4\n",
       "10          grade      80361.7\n",
       "11     sqft_above       69.452\n",
       "12  sqft_basement      44.8129\n",
       "13       yr_built      -2458.8\n",
       "14   yr_renovated -1.75639e-09\n",
       "15        zipcode     -348.316\n",
       "16            lat       605246\n",
       "17           long      9.67777"
      ]
     },
     "execution_count": 19,
     "metadata": {},
     "output_type": "execute_result"
    }
   ],
   "source": [
    "#creating a dataframe for cofficients\n",
    "coefficients=pd.DataFrame([X_train.columns,lm.coef_]).T\n",
    "coefficients"
   ]
  },
  {
   "cell_type": "markdown",
   "metadata": {},
   "source": [
    "### checking the model prediction on training data"
   ]
  },
  {
   "cell_type": "code",
   "execution_count": 20,
   "metadata": {
    "scrolled": true
   },
   "outputs": [
    {
     "data": {
      "text/plain": [
       "array([402337.17967077, 139548.06142295, 597384.36056823, ...,\n",
       "       470297.30789506, 539161.20752291, 553696.93050181])"
      ]
     },
     "execution_count": 20,
     "metadata": {},
     "output_type": "execute_result"
    }
   ],
   "source": [
    "#checking the model prediction on training data\n",
    "y_train_pred = lm.predict(X_train)\n",
    "y_train_pred"
   ]
  },
  {
   "cell_type": "markdown",
   "metadata": {},
   "source": [
    "### comparing the actual values(y_train) and the predicted values(y_train_pred)"
   ]
  },
  {
   "cell_type": "code",
   "execution_count": 21,
   "metadata": {
    "scrolled": true
   },
   "outputs": [
    {
     "data": {
      "text/plain": [
       "10214    False\n",
       "8495     False\n",
       "13183    False\n",
       "4837     False\n",
       "4055     False\n",
       "         ...  \n",
       "9225     False\n",
       "13123    False\n",
       "9845     False\n",
       "10799    False\n",
       "2732     False\n",
       "Name: price, Length: 12685, dtype: bool"
      ]
     },
     "execution_count": 21,
     "metadata": {},
     "output_type": "execute_result"
    }
   ],
   "source": [
    "#comparing the actual values(y_train) and the predicted values(y_train_pred)\n",
    "y_train==y_train_pred"
   ]
  },
  {
   "cell_type": "code",
   "execution_count": 22,
   "metadata": {
    "scrolled": true
   },
   "outputs": [
    {
     "name": "stdout",
     "output_type": "stream",
     "text": [
      "R^2: 0.7052419493142321\n",
      "Adjusted R^2: 0.7048230605638497\n"
     ]
    }
   ],
   "source": [
    "#r2_score\n",
    "from sklearn.metrics import r2_score\n",
    "print(\"R^2:\",r2_score(y_train,y_train_pred))\n",
    "print(\"Adjusted R^2:\",1-(1-r2_score(y_train,y_train_pred))*(len(X_train)-1)/\n",
    "     (len(X_train)-X_train.shape[1]-1))"
   ]
  },
  {
   "cell_type": "markdown",
   "metadata": {},
   "source": [
    "### regplot"
   ]
  },
  {
   "cell_type": "code",
   "execution_count": 23,
   "metadata": {
    "scrolled": true
   },
   "outputs": [
    {
     "data": {
      "text/plain": [
       "<matplotlib.axes._subplots.AxesSubplot at 0xcea83c8>"
      ]
     },
     "execution_count": 23,
     "metadata": {},
     "output_type": "execute_result"
    },
    {
     "data": {
      "image/png": "[encoded data removed]",
      "text/plain": [
       "<Figure size 432x288 with 1 Axes>"
      ]
     },
     "metadata": {
      "needs_background": "light"
     },
     "output_type": "display_data"
    }
   ],
   "source": [
    "#regplot\n",
    "seb.regplot(y_train,y_train_pred)"
   ]
  },
  {
   "cell_type": "markdown",
   "metadata": {},
   "source": [
    "###  Visualizing the differences between acutal values and predicted values"
   ]
  },
  {
   "cell_type": "code",
   "execution_count": 24,
   "metadata": {
    "scrolled": true
   },
   "outputs": [
    {
     "data": {
      "text/plain": [
       "Text(0, 0.5, 'model predicted purchase')"
      ]
     },
     "execution_count": 24,
     "metadata": {},
     "output_type": "execute_result"
    },
    {
     "data": {
      "image/png": "[encoded data removed]",
      "text/plain": [
       "<Figure size 432x288 with 1 Axes>"
      ]
     },
     "metadata": {
      "needs_background": "light"
     },
     "output_type": "display_data"
    }
   ],
   "source": [
    "#Visualizing the differences between acutal values and predicted values\n",
    "plt.scatter(y_train,y_train_pred)\n",
    "plt.xlabel('Purchase')\n",
    "plt.ylabel('model predicted purchase')"
   ]
  },
  {
   "cell_type": "markdown",
   "metadata": {},
   "source": [
    "### plot for residuals(errors)\n",
    "-  y_train-y_train_pred=Errors"
   ]
  },
  {
   "cell_type": "code",
   "execution_count": 25,
   "metadata": {
    "scrolled": true
   },
   "outputs": [
    {
     "data": {
      "text/plain": [
       "Text(0, 0.5, 'errors')"
      ]
     },
     "execution_count": 25,
     "metadata": {},
     "output_type": "execute_result"
    },
    {
     "data": {
      "image/png": "[encoded data removed]",
      "text/plain": [
       "<Figure size 432x288 with 1 Axes>"
      ]
     },
     "metadata": {
      "needs_background": "light"
     },
     "output_type": "display_data"
    }
   ],
   "source": [
    "#plot for residuals(errors)\n",
    "plt.scatter(y_train_pred,y_train-y_train_pred)\n",
    "plt.xlabel(\"predicted\")\n",
    "plt.ylabel(\"errors\")"
   ]
  },
  {
   "cell_type": "markdown",
   "metadata": {},
   "source": [
    "### Predicting the output test values for input test values"
   ]
  },
  {
   "cell_type": "code",
   "execution_count": 26,
   "metadata": {
    "scrolled": true
   },
   "outputs": [
    {
     "data": {
      "text/plain": [
       "array([863080.11138575, 438150.51750595, 146233.29341844, ...,\n",
       "       759515.72811555, 153833.13146625, 446720.38254938])"
      ]
     },
     "execution_count": 26,
     "metadata": {},
     "output_type": "execute_result"
    }
   ],
   "source": [
    "#Predicting the output test values for input test values\n",
    "y_test_pred=lm.predict(X_test)\n",
    "y_test_pred"
   ]
  },
  {
   "cell_type": "markdown",
   "metadata": {},
   "source": [
    "### Comparing the actual output test values with the predicted output test values\n",
    "- returning boolean values while comparing the output test values with predicted output test values"
   ]
  },
  {
   "cell_type": "code",
   "execution_count": 27,
   "metadata": {
    "scrolled": true
   },
   "outputs": [
    {
     "data": {
      "text/plain": [
       "5505     False\n",
       "5396     False\n",
       "11114    False\n",
       "11413    False\n",
       "380      False\n",
       "         ...  \n",
       "534      False\n",
       "7740     False\n",
       "11359    False\n",
       "10734    False\n",
       "3369     False\n",
       "Name: price, Length: 4229, dtype: bool"
      ]
     },
     "execution_count": 27,
     "metadata": {},
     "output_type": "execute_result"
    }
   ],
   "source": [
    "#Comparing the actual output test values with the predicted output test values\n",
    "y_test==y_test_pred"
   ]
  },
  {
   "cell_type": "markdown",
   "metadata": {},
   "source": [
    "### Visualising the data for the actual values vs. the predicted values"
   ]
  },
  {
   "cell_type": "code",
   "execution_count": 28,
   "metadata": {
    "scrolled": true
   },
   "outputs": [
    {
     "data": {
      "text/plain": [
       "<matplotlib.axes._subplots.AxesSubplot at 0xcfaa588>"
      ]
     },
     "execution_count": 28,
     "metadata": {},
     "output_type": "execute_result"
    },
    {
     "data": {
      "image/png": "[encoded data removed]",
      "text/plain": [
       "<Figure size 432x288 with 1 Axes>"
      ]
     },
     "metadata": {
      "needs_background": "light"
     },
     "output_type": "display_data"
    }
   ],
   "source": [
    "#Visualising the data for the actual values vs. the predicted values\n",
    "seb.regplot(y_test, y_test_pred)"
   ]
  },
  {
   "cell_type": "markdown",
   "metadata": {},
   "source": [
    "#### Visualizing the differences between acutal values and predicted values"
   ]
  },
  {
   "cell_type": "code",
   "execution_count": 29,
   "metadata": {
    "scrolled": true
   },
   "outputs": [
    {
     "data": {
      "text/plain": [
       "Text(0, 0.5, 'Model Predicted Price')"
      ]
     },
     "execution_count": 29,
     "metadata": {},
     "output_type": "execute_result"
    },
    {
     "data": {
      "image/png": "[encoded data removed]",
      "text/plain": [
       "<Figure size 432x288 with 1 Axes>"
      ]
     },
     "metadata": {
      "needs_background": "light"
     },
     "output_type": "display_data"
    }
   ],
   "source": [
    "#Visualizing the differences between acutal values and predicted values\n",
    "plt.scatter(y_test, y_test_pred)\n",
    "plt.xlabel('Price')\n",
    "plt.ylabel('Model Predicted Price')"
   ]
  },
  {
   "cell_type": "markdown",
   "metadata": {},
   "source": [
    "#### plot for residuals(errors)"
   ]
  },
  {
   "cell_type": "code",
   "execution_count": 30,
   "metadata": {
    "scrolled": true
   },
   "outputs": [
    {
     "data": {
      "text/plain": [
       "Text(0, 0.5, 'errors')"
      ]
     },
     "execution_count": 30,
     "metadata": {},
     "output_type": "execute_result"
    },
    {
     "data": {
      "image/png": "[encoded data removed]",
      "text/plain": [
       "<Figure size 432x288 with 1 Axes>"
      ]
     },
     "metadata": {
      "needs_background": "light"
     },
     "output_type": "display_data"
    }
   ],
   "source": [
    "#plot for residuals(errors)\n",
    "plt.scatter(y_test_pred,y_test-y_test_pred)\n",
    "plt.xlabel(\"predicted\")\n",
    "plt.ylabel(\"errors\")"
   ]
  },
  {
   "cell_type": "markdown",
   "metadata": {},
   "source": [
    "### Statistical Results"
   ]
  },
  {
   "cell_type": "code",
   "execution_count": 31,
   "metadata": {
    "scrolled": true
   },
   "outputs": [
    {
     "name": "stdout",
     "output_type": "stream",
     "text": [
      "Predicted Mean : 519150.92\n",
      "\n",
      "Actual Mean : 520662.55\n",
      "\n",
      "Difference : 1511.63\n",
      "\n",
      "Coefficients :\n",
      "[ 5.88233281e-07  2.15754209e+00 -2.47506127e+04  2.73099272e+04\n",
      "  1.14264864e+02 -2.37658193e-02  2.05392556e+04  7.20903847e+05\n",
      "  7.29703986e+04  1.45794269e+04  8.03617001e+04  6.94519701e+01\n",
      "  4.48128937e+01 -2.45879731e+03 -1.75639331e-09 -3.48315771e+02\n",
      "  6.05246026e+05  9.67777415e+00]\n",
      "\n",
      "Variance score: 0.6972\n",
      "\n",
      "Percentage Error : 0.2903\n",
      "\n"
     ]
    }
   ],
   "source": [
    "#Statistical Results\n",
    "difference = np.mean(y_test) - np.mean(y_test_pred)\n",
    "error = (np.mean(y_test) - np.mean(y_test_pred))/np.mean(y_test)\n",
    "\n",
    "print('Predicted Mean : %.2f' % np.mean(y_test_pred), end = '\\n\\n')\n",
    "print('Actual Mean : %.2f' % np.mean(y_test), end = '\\n\\n')\n",
    "print('Difference : %.2f' % difference, end = '\\n\\n')\n",
    "print('Coefficients :')\n",
    "print(lm.coef_, end = '\\n\\n')\n",
    "print('Variance score: %.4f' % lm.score(X_test, y_test), end = '\\n\\n')  \n",
    "print('Percentage Error : %.4f' % (error*100), end = '\\n\\n')"
   ]
  },
  {
   "cell_type": "markdown",
   "metadata": {},
   "source": [
    "### Error Metrics\n",
    "1. Mean Absolute Error\n",
    "2. Mean Squared Error\n",
    "3. Root Mean Squared Error\n",
    "### Performance Metrics\n",
    "1. R^2 value\n",
    "2. Adjusted R^2 value"
   ]
  },
  {
   "cell_type": "code",
   "execution_count": 32,
   "metadata": {
    "scrolled": true
   },
   "outputs": [
    {
     "name": "stdout",
     "output_type": "stream",
     "text": [
      "R^2: 0.697224196346605\n",
      "MAE: 112493.72529580983\n",
      "MSE: 33013940726.36817\n",
      "RMSE: 181697.38778080486\n"
     ]
    }
   ],
   "source": [
    "#Error Metrics\n",
    "from sklearn.metrics import r2_score,mean_absolute_error,mean_squared_error\n",
    "print(\"R^2:\",r2_score(y_test,y_test_pred))\n",
    "print(\"MAE:\",mean_absolute_error(y_test,y_test_pred))\n",
    "print(\"MSE:\",mean_squared_error(y_test,y_test_pred))\n",
    "print(\"RMSE:\",np.sqrt(mean_squared_error(y_test,y_test_pred)))"
   ]
  },
  {
   "cell_type": "markdown",
   "metadata": {},
   "source": [
    "## scaling"
   ]
  },
  {
   "cell_type": "code",
   "execution_count": 33,
   "metadata": {
    "scrolled": true
   },
   "outputs": [
    {
     "data": {
      "text/html": [
       "<div>\n",
       "<style scoped>\n",
       "    .dataframe tbody tr th:only-of-type {\n",
       "        vertical-align: middle;\n",
       "    }\n",
       "\n",
       "    .dataframe tbody tr th {\n",
       "        vertical-align: top;\n",
       "    }\n",
       "\n",
       "    .dataframe thead th {\n",
       "        text-align: right;\n",
       "    }\n",
       "</style>\n",
       "<table border=\"1\" class=\"dataframe\">\n",
       "  <thead>\n",
       "    <tr style=\"text-align: right;\">\n",
       "      <th></th>\n",
       "      <th>id</th>\n",
       "      <th>date</th>\n",
       "      <th>bedrooms</th>\n",
       "      <th>bathrooms</th>\n",
       "      <th>sqft_living</th>\n",
       "      <th>sqft_lot</th>\n",
       "      <th>floors</th>\n",
       "      <th>waterfront</th>\n",
       "      <th>view</th>\n",
       "      <th>condition</th>\n",
       "      <th>grade</th>\n",
       "      <th>sqft_above</th>\n",
       "      <th>sqft_basement</th>\n",
       "      <th>yr_built</th>\n",
       "      <th>yr_renovated</th>\n",
       "      <th>zipcode</th>\n",
       "      <th>lat</th>\n",
       "      <th>long</th>\n",
       "    </tr>\n",
       "  </thead>\n",
       "  <tbody>\n",
       "    <tr>\n",
       "      <th>0</th>\n",
       "      <td>1.432017</td>\n",
       "      <td>-0.666605</td>\n",
       "      <td>0.749084</td>\n",
       "      <td>0.114328</td>\n",
       "      <td>1.279662</td>\n",
       "      <td>0.029720</td>\n",
       "      <td>0.893761</td>\n",
       "      <td>-0.083101</td>\n",
       "      <td>-0.301355</td>\n",
       "      <td>0.840220</td>\n",
       "      <td>1.265863</td>\n",
       "      <td>1.786006</td>\n",
       "      <td>-0.661335</td>\n",
       "      <td>-0.323955</td>\n",
       "      <td>-0.013405</td>\n",
       "      <td>-0.668008</td>\n",
       "      <td>-0.024069</td>\n",
       "      <td>0.118553</td>\n",
       "    </tr>\n",
       "    <tr>\n",
       "      <th>1</th>\n",
       "      <td>1.401334</td>\n",
       "      <td>-0.594244</td>\n",
       "      <td>0.749084</td>\n",
       "      <td>0.114328</td>\n",
       "      <td>-0.547841</td>\n",
       "      <td>-0.235707</td>\n",
       "      <td>-0.930431</td>\n",
       "      <td>-0.083101</td>\n",
       "      <td>-0.301355</td>\n",
       "      <td>0.840220</td>\n",
       "      <td>-0.578975</td>\n",
       "      <td>-1.016537</td>\n",
       "      <td>0.737383</td>\n",
       "      <td>-0.289180</td>\n",
       "      <td>-0.013405</td>\n",
       "      <td>-0.440272</td>\n",
       "      <td>0.846862</td>\n",
       "      <td>0.119034</td>\n",
       "    </tr>\n",
       "    <tr>\n",
       "      <th>2</th>\n",
       "      <td>-0.451962</td>\n",
       "      <td>1.515272</td>\n",
       "      <td>-0.413398</td>\n",
       "      <td>-1.712182</td>\n",
       "      <td>-1.303660</td>\n",
       "      <td>-0.199288</td>\n",
       "      <td>-0.930431</td>\n",
       "      <td>-0.083101</td>\n",
       "      <td>-0.301355</td>\n",
       "      <td>0.840220</td>\n",
       "      <td>-1.501395</td>\n",
       "      <td>-1.079093</td>\n",
       "      <td>-0.661335</td>\n",
       "      <td>-0.323955</td>\n",
       "      <td>-0.013405</td>\n",
       "      <td>-0.307427</td>\n",
       "      <td>-0.520640</td>\n",
       "      <td>0.119003</td>\n",
       "    </tr>\n",
       "    <tr>\n",
       "      <th>3</th>\n",
       "      <td>-1.132860</td>\n",
       "      <td>-0.618364</td>\n",
       "      <td>0.749084</td>\n",
       "      <td>0.114328</td>\n",
       "      <td>0.794584</td>\n",
       "      <td>-0.220809</td>\n",
       "      <td>0.893761</td>\n",
       "      <td>-0.083101</td>\n",
       "      <td>-0.301355</td>\n",
       "      <td>-0.649811</td>\n",
       "      <td>2.188283</td>\n",
       "      <td>1.248018</td>\n",
       "      <td>-0.661335</td>\n",
       "      <td>0.962734</td>\n",
       "      <td>-0.013405</td>\n",
       "      <td>-0.800854</td>\n",
       "      <td>0.921312</td>\n",
       "      <td>0.118639</td>\n",
       "    </tr>\n",
       "    <tr>\n",
       "      <th>4</th>\n",
       "      <td>-0.966261</td>\n",
       "      <td>-0.641106</td>\n",
       "      <td>-1.575880</td>\n",
       "      <td>0.114328</td>\n",
       "      <td>-0.773459</td>\n",
       "      <td>6.472294</td>\n",
       "      <td>-0.930431</td>\n",
       "      <td>-0.083101</td>\n",
       "      <td>-0.301355</td>\n",
       "      <td>-3.629875</td>\n",
       "      <td>-1.501395</td>\n",
       "      <td>-0.491060</td>\n",
       "      <td>-0.661335</td>\n",
       "      <td>-0.602158</td>\n",
       "      <td>-0.013405</td>\n",
       "      <td>-1.218369</td>\n",
       "      <td>1.357480</td>\n",
       "      <td>0.118716</td>\n",
       "    </tr>\n",
       "    <tr>\n",
       "      <th>...</th>\n",
       "      <td>...</td>\n",
       "      <td>...</td>\n",
       "      <td>...</td>\n",
       "      <td>...</td>\n",
       "      <td>...</td>\n",
       "      <td>...</td>\n",
       "      <td>...</td>\n",
       "      <td>...</td>\n",
       "      <td>...</td>\n",
       "      <td>...</td>\n",
       "      <td>...</td>\n",
       "      <td>...</td>\n",
       "      <td>...</td>\n",
       "      <td>...</td>\n",
       "      <td>...</td>\n",
       "      <td>...</td>\n",
       "      <td>...</td>\n",
       "      <td>...</td>\n",
       "    </tr>\n",
       "    <tr>\n",
       "      <th>4224</th>\n",
       "      <td>-1.037253</td>\n",
       "      <td>1.495746</td>\n",
       "      <td>-0.413398</td>\n",
       "      <td>-1.712182</td>\n",
       "      <td>-1.157009</td>\n",
       "      <td>-0.233886</td>\n",
       "      <td>-0.930431</td>\n",
       "      <td>-0.083101</td>\n",
       "      <td>-0.301355</td>\n",
       "      <td>0.840220</td>\n",
       "      <td>-1.501395</td>\n",
       "      <td>-0.916446</td>\n",
       "      <td>-0.661335</td>\n",
       "      <td>-0.010977</td>\n",
       "      <td>-0.013405</td>\n",
       "      <td>-1.237347</td>\n",
       "      <td>-1.702015</td>\n",
       "      <td>0.120064</td>\n",
       "    </tr>\n",
       "    <tr>\n",
       "      <th>4225</th>\n",
       "      <td>1.729790</td>\n",
       "      <td>-0.683834</td>\n",
       "      <td>0.749084</td>\n",
       "      <td>0.114328</td>\n",
       "      <td>1.211976</td>\n",
       "      <td>-0.001600</td>\n",
       "      <td>0.893761</td>\n",
       "      <td>-0.083101</td>\n",
       "      <td>-0.301355</td>\n",
       "      <td>-0.649811</td>\n",
       "      <td>2.188283</td>\n",
       "      <td>1.710938</td>\n",
       "      <td>-0.661335</td>\n",
       "      <td>0.788857</td>\n",
       "      <td>-0.013405</td>\n",
       "      <td>-0.003779</td>\n",
       "      <td>0.291292</td>\n",
       "      <td>0.120088</td>\n",
       "    </tr>\n",
       "    <tr>\n",
       "      <th>4226</th>\n",
       "      <td>-0.130234</td>\n",
       "      <td>-0.597689</td>\n",
       "      <td>-0.413398</td>\n",
       "      <td>0.114328</td>\n",
       "      <td>0.591528</td>\n",
       "      <td>-0.172372</td>\n",
       "      <td>-0.930431</td>\n",
       "      <td>-0.083101</td>\n",
       "      <td>-0.301355</td>\n",
       "      <td>2.330252</td>\n",
       "      <td>0.343444</td>\n",
       "      <td>-0.415992</td>\n",
       "      <td>1.933063</td>\n",
       "      <td>0.197675</td>\n",
       "      <td>-0.013405</td>\n",
       "      <td>-0.895743</td>\n",
       "      <td>1.519024</td>\n",
       "      <td>0.118197</td>\n",
       "    </tr>\n",
       "    <tr>\n",
       "      <th>4227</th>\n",
       "      <td>1.646078</td>\n",
       "      <td>-0.618134</td>\n",
       "      <td>-2.738362</td>\n",
       "      <td>-1.712182</td>\n",
       "      <td>-1.574401</td>\n",
       "      <td>-0.316160</td>\n",
       "      <td>-0.930431</td>\n",
       "      <td>-0.083101</td>\n",
       "      <td>-0.301355</td>\n",
       "      <td>-0.649811</td>\n",
       "      <td>-2.423814</td>\n",
       "      <td>-1.379366</td>\n",
       "      <td>-0.661335</td>\n",
       "      <td>-1.784521</td>\n",
       "      <td>-0.013405</td>\n",
       "      <td>0.964097</td>\n",
       "      <td>-0.130828</td>\n",
       "      <td>0.117337</td>\n",
       "    </tr>\n",
       "    <tr>\n",
       "      <th>4228</th>\n",
       "      <td>-0.605312</td>\n",
       "      <td>-0.616526</td>\n",
       "      <td>-0.413398</td>\n",
       "      <td>1.940838</td>\n",
       "      <td>-0.559122</td>\n",
       "      <td>-0.420219</td>\n",
       "      <td>0.893761</td>\n",
       "      <td>-0.083101</td>\n",
       "      <td>-0.301355</td>\n",
       "      <td>-0.649811</td>\n",
       "      <td>0.343444</td>\n",
       "      <td>-0.641196</td>\n",
       "      <td>0.038024</td>\n",
       "      <td>1.240936</td>\n",
       "      <td>-0.013405</td>\n",
       "      <td>0.603516</td>\n",
       "      <td>0.791375</td>\n",
       "      <td>0.117368</td>\n",
       "    </tr>\n",
       "  </tbody>\n",
       "</table>\n",
       "<p>4229 rows × 18 columns</p>\n",
       "</div>"
      ],
      "text/plain": [
       "            id      date  bedrooms  bathrooms  sqft_living  sqft_lot  \\\n",
       "0     1.432017 -0.666605  0.749084   0.114328     1.279662  0.029720   \n",
       "1     1.401334 -0.594244  0.749084   0.114328    -0.547841 -0.235707   \n",
       "2    -0.451962  1.515272 -0.413398  -1.712182    -1.303660 -0.199288   \n",
       "3    -1.132860 -0.618364  0.749084   0.114328     0.794584 -0.220809   \n",
       "4    -0.966261 -0.641106 -1.575880   0.114328    -0.773459  6.472294   \n",
       "...        ...       ...       ...        ...          ...       ...   \n",
       "4224 -1.037253  1.495746 -0.413398  -1.712182    -1.157009 -0.233886   \n",
       "4225  1.729790 -0.683834  0.749084   0.114328     1.211976 -0.001600   \n",
       "4226 -0.130234 -0.597689 -0.413398   0.114328     0.591528 -0.172372   \n",
       "4227  1.646078 -0.618134 -2.738362  -1.712182    -1.574401 -0.316160   \n",
       "4228 -0.605312 -0.616526 -0.413398   1.940838    -0.559122 -0.420219   \n",
       "\n",
       "        floors  waterfront      view  condition     grade  sqft_above  \\\n",
       "0     0.893761   -0.083101 -0.301355   0.840220  1.265863    1.786006   \n",
       "1    -0.930431   -0.083101 -0.301355   0.840220 -0.578975   -1.016537   \n",
       "2    -0.930431   -0.083101 -0.301355   0.840220 -1.501395   -1.079093   \n",
       "3     0.893761   -0.083101 -0.301355  -0.649811  2.188283    1.248018   \n",
       "4    -0.930431   -0.083101 -0.301355  -3.629875 -1.501395   -0.491060   \n",
       "...        ...         ...       ...        ...       ...         ...   \n",
       "4224 -0.930431   -0.083101 -0.301355   0.840220 -1.501395   -0.916446   \n",
       "4225  0.893761   -0.083101 -0.301355  -0.649811  2.188283    1.710938   \n",
       "4226 -0.930431   -0.083101 -0.301355   2.330252  0.343444   -0.415992   \n",
       "4227 -0.930431   -0.083101 -0.301355  -0.649811 -2.423814   -1.379366   \n",
       "4228  0.893761   -0.083101 -0.301355  -0.649811  0.343444   -0.641196   \n",
       "\n",
       "      sqft_basement  yr_built  yr_renovated   zipcode       lat      long  \n",
       "0         -0.661335 -0.323955     -0.013405 -0.668008 -0.024069  0.118553  \n",
       "1          0.737383 -0.289180     -0.013405 -0.440272  0.846862  0.119034  \n",
       "2         -0.661335 -0.323955     -0.013405 -0.307427 -0.520640  0.119003  \n",
       "3         -0.661335  0.962734     -0.013405 -0.800854  0.921312  0.118639  \n",
       "4         -0.661335 -0.602158     -0.013405 -1.218369  1.357480  0.118716  \n",
       "...             ...       ...           ...       ...       ...       ...  \n",
       "4224      -0.661335 -0.010977     -0.013405 -1.237347 -1.702015  0.120064  \n",
       "4225      -0.661335  0.788857     -0.013405 -0.003779  0.291292  0.120088  \n",
       "4226       1.933063  0.197675     -0.013405 -0.895743  1.519024  0.118197  \n",
       "4227      -0.661335 -1.784521     -0.013405  0.964097 -0.130828  0.117337  \n",
       "4228       0.038024  1.240936     -0.013405  0.603516  0.791375  0.117368  \n",
       "\n",
       "[4229 rows x 18 columns]"
      ]
     },
     "execution_count": 33,
     "metadata": {},
     "output_type": "execute_result"
    }
   ],
   "source": [
    "# Scaling Data\n",
    "from sklearn.preprocessing import StandardScaler\n",
    "scaler = StandardScaler()\n",
    "\n",
    "# Scaling for training data\n",
    "scaled_X_train = pd.DataFrame(scaler.fit_transform(X_train), columns = X_train.columns)\n",
    "scaled_X_train\n",
    "\n",
    "#Scaling for test data\n",
    "#Testing the data based on training data\n",
    "scaled_X_test = pd.DataFrame(scaler.transform(X_test), columns = X_test.columns)\n",
    "scaled_X_test"
   ]
  },
  {
   "cell_type": "code",
   "execution_count": 34,
   "metadata": {
    "scrolled": true
   },
   "outputs": [
    {
     "data": {
      "text/plain": [
       "KNeighborsRegressor(algorithm='auto', leaf_size=30, metric='euclidean',\n",
       "                    metric_params=None, n_jobs=None, n_neighbors=40, p=2,\n",
       "                    weights='uniform')"
      ]
     },
     "execution_count": 34,
     "metadata": {},
     "output_type": "execute_result"
    }
   ],
   "source": [
    "# Model Building:\n",
    "from sklearn.neighbors import KNeighborsRegressor\n",
    "knn = KNeighborsRegressor(n_neighbors=40, metric='euclidean')\n",
    "\n",
    "# Apply the knn object on the dataset(Training Phase)\n",
    "# Syntax: objectName.fit(Input, Output)\n",
    "knn.fit(scaled_X_train, y_train)"
   ]
  },
  {
   "cell_type": "code",
   "execution_count": 35,
   "metadata": {
    "scrolled": true
   },
   "outputs": [
    {
     "data": {
      "text/plain": [
       "array([338250.   , 201872.   , 466350.   , ..., 445787.5  , 505960.55 ,\n",
       "       480598.675])"
      ]
     },
     "execution_count": 35,
     "metadata": {},
     "output_type": "execute_result"
    }
   ],
   "source": [
    "# Predictions on the data\n",
    "#predict function--> gives the predicted values\n",
    "# Syntax:objectname.predict(Input)\n",
    "y_train_pred = knn.predict(scaled_X_train)\n",
    "y_train_pred"
   ]
  },
  {
   "cell_type": "markdown",
   "metadata": {},
   "source": [
    "## Implementing knn regressor"
   ]
  },
  {
   "cell_type": "code",
   "execution_count": 36,
   "metadata": {
    "scrolled": true
   },
   "outputs": [
    {
     "data": {
      "text/plain": [
       "[2370313860.6909437,\n",
       " 4150663398.339974,\n",
       " 5587340923.400751,\n",
       " 6497161523.869029,\n",
       " 7388642595.468575,\n",
       " 8123801734.922125,\n",
       " 8812068737.845776,\n",
       " 9589491814.203909,\n",
       " 10399694913.348295,\n",
       " 11302544217.749224,\n",
       " 12351682851.83076,\n",
       " 13455896126.081488,\n",
       " 14556210933.327475,\n",
       " 15640020123.862183,\n",
       " 16667842964.617674,\n",
       " 17563994118.46564,\n",
       " 18268227468.22054,\n",
       " 18888415710.198658,\n",
       " 19492174870.15249]"
      ]
     },
     "execution_count": 36,
     "metadata": {},
     "output_type": "execute_result"
    }
   ],
   "source": [
    "# Checking for optimum k-value\n",
    "# Build the models with multiple k values\n",
    "scores=[]\n",
    "for k in range(1, 20):\n",
    "    knn_model = KNeighborsRegressor(n_neighbors = k)\n",
    "    knn_model.fit(scaled_X_train, y_train)\n",
    "    pred_test = knn_model.predict(scaled_X_test)\n",
    "    scores.append(mean_squared_error(y_test, pred_test))\n",
    "scores"
   ]
  },
  {
   "cell_type": "code",
   "execution_count": 37,
   "metadata": {
    "scrolled": true
   },
   "outputs": [
    {
     "data": {
      "text/plain": [
       "[<matplotlib.lines.Line2D at 0xdc1cf08>]"
      ]
     },
     "execution_count": 37,
     "metadata": {},
     "output_type": "execute_result"
    },
    {
     "data": {
      "image/png": "[encoded data removed]",
      "text/plain": [
       "<Figure size 432x288 with 1 Axes>"
      ]
     },
     "metadata": {
      "needs_background": "light"
     },
     "output_type": "display_data"
    }
   ],
   "source": [
    "# Plottting of K values and Scores\n",
    "plt.plot(range(1,20), scores, marker='o', markerfacecolor='r', linestyle='--')"
   ]
  },
  {
   "cell_type": "code",
   "execution_count": 37,
   "metadata": {
    "scrolled": true
   },
   "outputs": [
    {
     "data": {
      "text/plain": [
       "KNeighborsRegressor(algorithm='auto', leaf_size=30, metric='euclidean',\n",
       "                    metric_params=None, n_jobs=None, n_neighbors=19, p=2,\n",
       "                    weights='uniform')"
      ]
     },
     "execution_count": 37,
     "metadata": {},
     "output_type": "execute_result"
    }
   ],
   "source": [
    "# Optimum k value is 19\n",
    "final_model = KNeighborsRegressor(n_neighbors=19, metric='euclidean')\n",
    "final_model.fit(scaled_X_train, y_train)"
   ]
  },
  {
   "cell_type": "code",
   "execution_count": 38,
   "metadata": {
    "scrolled": true
   },
   "outputs": [
    {
     "data": {
      "text/plain": [
       "array([336315.78947368, 223732.10526316, 474947.36842105, ...,\n",
       "       490263.15789474, 598171.15789474, 387102.47368421])"
      ]
     },
     "execution_count": 38,
     "metadata": {},
     "output_type": "execute_result"
    }
   ],
   "source": [
    "# Prediction on  training data\n",
    "final_train_pred = final_model.predict(scaled_X_train)\n",
    "final_train_pred"
   ]
  },
  {
   "cell_type": "code",
   "execution_count": 39,
   "metadata": {},
   "outputs": [
    {
     "name": "stdout",
     "output_type": "stream",
     "text": [
      "0.8661993379431747\n"
     ]
    }
   ],
   "source": [
    "print(r2_score(y_train, final_train_pred))"
   ]
  },
  {
   "cell_type": "code",
   "execution_count": 40,
   "metadata": {
    "scrolled": true
   },
   "outputs": [
    {
     "data": {
      "text/plain": [
       "array([942684.21052632, 465947.36842105, 251865.78947368, ...,\n",
       "       582052.63157895, 227368.42105263, 512420.        ])"
      ]
     },
     "execution_count": 40,
     "metadata": {},
     "output_type": "execute_result"
    }
   ],
   "source": [
    "# Predictions on Test Data\n",
    "final_test_pred = final_model.predict(scaled_X_test)  # y_test\n",
    "final_test_pred"
   ]
  },
  {
   "cell_type": "code",
   "execution_count": 41,
   "metadata": {
    "scrolled": true
   },
   "outputs": [
    {
     "name": "stdout",
     "output_type": "stream",
     "text": [
      "0.8212343397542601\n"
     ]
    }
   ],
   "source": [
    "print(r2_score(y_test, final_test_pred))"
   ]
  },
  {
   "cell_type": "code",
   "execution_count": 42,
   "metadata": {
    "scrolled": true
   },
   "outputs": [
    {
     "data": {
      "image/png": "[encoded data removed]",
      "text/plain": [
       "<Figure size 432x288 with 1 Axes>"
      ]
     },
     "metadata": {
      "needs_background": "light"
     },
     "output_type": "display_data"
    }
   ],
   "source": [
    "#Comparision of the test data\n",
    "algorithms=['mlr','knn'] \n",
    "r2_score=[0.7052419493142321,0.8212343397542601] \n",
    "plt.bar(algorithms,r2_score,color=\"red\")\n",
    "plt.xlabel(\"algorithms\")\n",
    "plt.ylabel(\"r2_score\")\n",
    "plt.title('Comparisions of the test data')\n",
    "plt.show()"
   ]
  },
  {
   "cell_type": "code",
   "execution_count": null,
   "metadata": {},
   "outputs": [],
   "source": []
  }
 ],
 "metadata": {
  "kernelspec": {
   "display_name": "Python 3",
   "language": "python",
   "name": "python3"
  },
  "language_info": {
   "codemirror_mode": {
    "name": "ipython",
    "version": 3
   },
   "file_extension": ".py",
   "mimetype": "text/x-python",
   "name": "python",
   "nbconvert_exporter": "python",
   "pygments_lexer": "ipython3",
   "version": "3.7.6"
  }
 },
 "nbformat": 4,
 "nbformat_minor": 4
}
